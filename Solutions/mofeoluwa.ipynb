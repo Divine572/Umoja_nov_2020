{
 "cells": [
  {
   "cell_type": "code",
   "execution_count": 1,
   "metadata": {},
   "outputs": [],
   "source": [
    "import pandas as pd\n",
    "import numpy as np\n",
    "import datetime\n",
    "\n",
    "import seaborn as sns\n",
    "import matplotlib.pyplot as plt\n",
    "\n",
    "from sklearn.model_selection import train_test_split"
   ]
  },
  {
   "cell_type": "code",
   "execution_count": 2,
   "metadata": {},
   "outputs": [],
   "source": [
    "pd.set_option('display.max_rows',None)\n",
    "pd.set_option('display.max_columns',None)"
   ]
  },
  {
   "cell_type": "code",
   "execution_count": 3,
   "metadata": {},
   "outputs": [],
   "source": [
    "train = pd.read_csv('Train.csv')\n",
    "test = pd.read_csv('Test.csv')\n",
    "ss = pd.read_csv('SampleSubmission.csv')\n",
    "variable_def = pd.read_csv('VariableDefinitions.csv')"
   ]
  },
  {
   "cell_type": "code",
   "execution_count": 4,
   "metadata": {},
   "outputs": [],
   "source": [
    "res = {'Male': 0, 'Female': 1, 'Joint Gender': 2, 'Entity': 3, 'NOT STATED': 3, 'NO GENDER': 3, 'SEX': 3}"
   ]
  },
  {
   "cell_type": "code",
   "execution_count": 5,
   "metadata": {},
   "outputs": [],
   "source": [
    "train['Gender'] = train['Gender'].map(res)\n",
    "test['Gender'] = test['Gender'].map(res)"
   ]
  },
  {
   "cell_type": "code",
   "execution_count": 6,
   "metadata": {},
   "outputs": [],
   "source": [
    "train['Gender'] = train['Gender'].fillna(value=3)\n",
    "test['Gender'] = test['Gender'].fillna(value=3)"
   ]
  },
  {
   "cell_type": "code",
   "execution_count": 7,
   "metadata": {},
   "outputs": [],
   "source": [
    "lagos_zone = ['Eti-Osa','Ibeju-Lekki','Oshodi-Isolo','Amuwo-Odofin',\n",
    "              'Ifako-Ijaye','Ajeromi-Ifelodun','ABULE-EGBA','AJAO-ESTATE',\n",
    "             'Orile-Iganmu','Ajegunle-State']\n",
    "train['State'] = train['State'].replace(lagos_zone,'Lagos')\n",
    "test['State'] = test['State'].replace(lagos_zone,'Lagos')"
   ]
  },
  {
   "cell_type": "code",
   "execution_count": 8,
   "metadata": {},
   "outputs": [],
   "source": [
    "ogun_zone = ['Ijebu-Ode','Ado-Ota','Ogun-Waterside','Obafemi-Owode','Ijebu-East','Ijebu-North']\n",
    "train['State'] = train['State'].replace(ogun_zone,'Ogun')\n",
    "test['State'] = test['State'].replace(ogun_zone,'Ogun')"
   ]
  },
  {
   "cell_type": "code",
   "execution_count": 9,
   "metadata": {},
   "outputs": [],
   "source": [
    "oyo_zone = ['Ibadan-West','Ibadan-East','Ogbmosho-South','Lagelu-North',\n",
    "            'Ibadan-North','Oyo-West','Oyo-East','Ibarapa-Central']\n",
    "train['State'] = train['State'].replace(oyo_zone,'Oyo')\n",
    "test['State'] = test['State'].replace(oyo_zone,'Oyo')"
   ]
  },
  {
   "cell_type": "code",
   "execution_count": 10,
   "metadata": {},
   "outputs": [],
   "source": [
    "osun_zone = ['Ilesha-East','Ilesha-West','Ife-North','Ife-Central']\n",
    "train['State'] = train['State'].replace(osun_zone,'Osun')\n",
    "test['State'] = test['State'].replace(osun_zone,'Osun')"
   ]
  },
  {
   "cell_type": "code",
   "execution_count": 11,
   "metadata": {},
   "outputs": [],
   "source": [
    "ondo_zone = ['Ondo-West','Ile-Oluji','Akoko-West']\n",
    "train['State'] = train['State'].replace(ondo_zone,'Ondo')\n",
    "test['State'] = test['State'].replace(ondo_zone,'Ondo')"
   ]
  },
  {
   "cell_type": "code",
   "execution_count": 12,
   "metadata": {},
   "outputs": [],
   "source": [
    "ekiti_zone = ['Ekiti-West','Ekiti-East','Ado-Ekiti']\n",
    "train['State'] = train['State'].replace(ekiti_zone,'Ekiti')\n",
    "test['State'] = test['State'].replace(ekiti_zone,'Ekiti')"
   ]
  },
  {
   "cell_type": "code",
   "execution_count": 13,
   "metadata": {},
   "outputs": [],
   "source": [
    "edo_zone = ['Ovia-SouthWest','Esan-Central','Esan-West','Etsako-West']\n",
    "anambra_zone = ['Nwewi-South','Awka-North','Onitsha-South',\n",
    "                'Onitsha-North','Awka-South','Anambra-East']"
   ]
  },
  {
   "cell_type": "code",
   "execution_count": 14,
   "metadata": {},
   "outputs": [],
   "source": [
    "train['State'] = train['State'].replace(edo_zone,'Edo')\n",
    "test['State'] = test['State'].replace(edo_zone,'Edo')\n",
    "train['State'] = train['State'].replace(anambra_zone,'Anambra')\n",
    "test['State'] = test['State'].replace(anambra_zone,'Anambra')"
   ]
  },
  {
   "cell_type": "code",
   "execution_count": 15,
   "metadata": {},
   "outputs": [],
   "source": [
    "abia_zone = ['Umuahia-South','Aba-North','Aba-South']\n",
    "delta_zone = ['Warri-Central','Aniocha-South','Warri-North',\n",
    "              'Warri-South','Ndokwa-East','Isoko-North','Isoko-south',\n",
    "             'Ughelli-North','Ethiope-East','Oshimili-North']"
   ]
  },
  {
   "cell_type": "code",
   "execution_count": 16,
   "metadata": {},
   "outputs": [],
   "source": [
    "train['State'] = train['State'].replace(abia_zone,'Abia')\n",
    "test['State'] = test['State'].replace(abia_zone,'Abia')\n",
    "train['State'] = train['State'].replace(delta_zone,'Delta')\n",
    "test['State'] = test['State'].replace(delta_zone,'Delta')"
   ]
  },
  {
   "cell_type": "code",
   "execution_count": 17,
   "metadata": {},
   "outputs": [],
   "source": [
    "rivers_zone = ['Obia-Akpor','Port-Harcourt','Asari-Toru','Ogba-Ndoni']\n",
    "enugu_zone = ['ENUGU-EAST','Enugu-North','Udi-Agwu','ENUGU-SOUTH']"
   ]
  },
  {
   "cell_type": "code",
   "execution_count": 18,
   "metadata": {},
   "outputs": [],
   "source": [
    "train['State'] = train['State'].replace(rivers_zone,'Rivers')\n",
    "test['State'] = test['State'].replace(rivers_zone,'Rivers')\n",
    "train['State'] = train['State'].replace(enugu_zone,'Enugu')\n",
    "test['State'] = test['State'].replace(enugu_zone,'Enugu')"
   ]
  },
  {
   "cell_type": "code",
   "execution_count": 19,
   "metadata": {},
   "outputs": [],
   "source": [
    "imo_zone = ['Owerri-Municipal','Owerri-West','Aboh-Mbaise','Owerri-North','Ngor-Okpala']\n",
    "anambra_zone = ['Anambra-East','Nnewi-North','Idemili-North','Nnewi-South','Idemili-south']"
   ]
  },
  {
   "cell_type": "code",
   "execution_count": 20,
   "metadata": {},
   "outputs": [],
   "source": [
    "train['State'] = train['State'].replace(imo_zone,'Imo')\n",
    "test['State'] = test['State'].replace(imo_zone,'Imo')\n",
    "train['State'] = train['State'].replace(anambra_zone,'Anambra')\n",
    "test['State'] = test['State'].replace(anambra_zone,'Anambra')"
   ]
  },
  {
   "cell_type": "code",
   "execution_count": 21,
   "metadata": {},
   "outputs": [],
   "source": [
    "akwa_zone = ['Nsit-Ubium','Essien-Udim']\n",
    "cross_zone = ['Calabar-Municipality']"
   ]
  },
  {
   "cell_type": "code",
   "execution_count": 22,
   "metadata": {},
   "outputs": [],
   "source": [
    "train['State'] = train['State'].replace(akwa_zone,'Akwa-Ibom')\n",
    "test['State'] = test['State'].replace(akwa_zone,'Akwa-Ibom')\n",
    "train['State'] = train['State'].replace(cross_zone,'Cross-River')\n",
    "test['State'] = test['State'].replace(cross_zone,'Cross-River')"
   ]
  },
  {
   "cell_type": "code",
   "execution_count": 23,
   "metadata": {},
   "outputs": [],
   "source": [
    "abuja_zone = ['Abuja-Municipal','Central-Abuja']\n",
    "kaduna_zone = ['Kaduna-North','Kaduna-South']"
   ]
  },
  {
   "cell_type": "code",
   "execution_count": 24,
   "metadata": {},
   "outputs": [],
   "source": [
    "train['State'] = train['State'].replace(abuja_zone,'Abuja')\n",
    "test['State'] = test['State'].replace(abuja_zone,'Abuja')\n",
    "train['State'] = train['State'].replace(kaduna_zone,'Kaduna')\n",
    "test['State'] = test['State'].replace(kaduna_zone,'Kaduna')"
   ]
  },
  {
   "cell_type": "code",
   "execution_count": 25,
   "metadata": {},
   "outputs": [],
   "source": [
    "train['State'] = train['State'].replace('Niger-State','Niger')\n",
    "test['State'] = test['State'].replace('Niger-State','Niger')\n",
    "train['State'] = train['State'].replace('Kano-Municipal','Kano')\n",
    "test['State'] = test['State'].replace('Kano-Municipal','Kano')"
   ]
  },
  {
   "cell_type": "code",
   "execution_count": 26,
   "metadata": {},
   "outputs": [],
   "source": [
    "plat_zone = ['Jos-North','Jos-South','QuaAn-Pan']\n",
    "kwara_zone = ['Ilorin-East','Ilorin-North','Ilorin-West']"
   ]
  },
  {
   "cell_type": "code",
   "execution_count": 27,
   "metadata": {},
   "outputs": [],
   "source": [
    "train['State'] = train['State'].replace(plat_zone,'Plateau')\n",
    "test['State'] = test['State'].replace(plat_zone,'Plateau')\n",
    "train['State'] = train['State'].replace(kwara_zone,'Kwara')\n",
    "test['State'] = test['State'].replace(kwara_zone,'Kwara')"
   ]
  },
  {
   "cell_type": "code",
   "execution_count": 28,
   "metadata": {},
   "outputs": [],
   "source": [
    "train['LGA_Name'] = train['LGA_Name'].replace('LGA','N-A')\n",
    "train['LGA_Name'] = train['LGA_Name'].replace('OGUN','Abeokuta-South')\n",
    "train['LGA_Name'] = train['LGA_Name'].replace('ONDO','Akure-North')\n",
    "train['LGA_Name'] = train['LGA_Name'].replace('RIVERS','Port-Harcourt')\n",
    "train['LGA_Name'] = train['LGA_Name'].replace(['Ikeja G.R.A','Lagos'],'Ikeja')"
   ]
  },
  {
   "cell_type": "code",
   "execution_count": 29,
   "metadata": {},
   "outputs": [],
   "source": [
    "test['LGA_Name'] = test['LGA_Name'].replace('LGA','N-A')\n",
    "test['LGA_Name'] = test['LGA_Name'].replace('OGUN','Abeokuta-South')\n",
    "test['LGA_Name'] = test['LGA_Name'].replace('ONDO','Akure-North')\n",
    "test['LGA_Name'] = test['LGA_Name'].replace('RIVERS','Port-Harcourt')\n",
    "test['LGA_Name'] = test['LGA_Name'].replace(['Ikeja G.R.A','Lagos'],'Ikeja')"
   ]
  },
  {
   "cell_type": "code",
   "execution_count": 30,
   "metadata": {},
   "outputs": [],
   "source": [
    "train['State'] = train['State'].fillna('N-A')\n",
    "test['State'] = test['State'].fillna('N-A')"
   ]
  },
  {
   "cell_type": "code",
   "execution_count": 31,
   "metadata": {},
   "outputs": [],
   "source": [
    "train['LGA_Name'] = train['LGA_Name'].fillna('N-A')\n",
    "test['LGA_Name'] = test['LGA_Name'].fillna('N-A')"
   ]
  },
  {
   "cell_type": "code",
   "execution_count": 32,
   "metadata": {},
   "outputs": [],
   "source": [
    "#from sklearn.preprocessing import LabelEncoder\n",
    "#LE = LabelEncoder()"
   ]
  },
  {
   "cell_type": "code",
   "execution_count": 33,
   "metadata": {},
   "outputs": [],
   "source": [
    "from sklearn.impute import SimpleImputer\n",
    "imputer = SimpleImputer(strategy='most_frequent')"
   ]
  },
  {
   "cell_type": "code",
   "execution_count": 34,
   "metadata": {},
   "outputs": [],
   "source": [
    "train['Car_Category'] = imputer.fit_transform(train[['Car_Category']])\n",
    "test['Car_Category'] = imputer.transform(test[['Car_Category']])"
   ]
  },
  {
   "cell_type": "code",
   "execution_count": 35,
   "metadata": {},
   "outputs": [],
   "source": [
    "train['Subject_Car_Colour'] = imputer.fit_transform(train[['Subject_Car_Colour']])\n",
    "test['Subject_Car_Colour'] = imputer.transform(test[['Subject_Car_Colour']])"
   ]
  },
  {
   "cell_type": "code",
   "execution_count": 36,
   "metadata": {},
   "outputs": [],
   "source": [
    "train['Subject_Car_Make'] = imputer.fit_transform(train[['Subject_Car_Make']])\n",
    "test['Subject_Car_Make'] = imputer.transform(test[['Subject_Car_Make']])"
   ]
  },
  {
   "cell_type": "code",
   "execution_count": 37,
   "metadata": {},
   "outputs": [],
   "source": [
    "train['Age'] = abs(train['Age'])\n",
    "test['Age'] = abs(test['Age'])"
   ]
  },
  {
   "cell_type": "code",
   "execution_count": 38,
   "metadata": {},
   "outputs": [],
   "source": [
    "def conv_age(df):\n",
    "    for i in df['Age']:\n",
    "        if i >= 120:\n",
    "            df['Age'] = df['Age'].replace(i,60)\n",
    "    return df.head()"
   ]
  },
  {
   "cell_type": "code",
   "execution_count": 39,
   "metadata": {},
   "outputs": [
    {
     "data": {
      "text/html": [
       "<div>\n",
       "<style scoped>\n",
       "    .dataframe tbody tr th:only-of-type {\n",
       "        vertical-align: middle;\n",
       "    }\n",
       "\n",
       "    .dataframe tbody tr th {\n",
       "        vertical-align: top;\n",
       "    }\n",
       "\n",
       "    .dataframe thead th {\n",
       "        text-align: right;\n",
       "    }\n",
       "</style>\n",
       "<table border=\"1\" class=\"dataframe\">\n",
       "  <thead>\n",
       "    <tr style=\"text-align: right;\">\n",
       "      <th></th>\n",
       "      <th>ID</th>\n",
       "      <th>Policy Start Date</th>\n",
       "      <th>Policy End Date</th>\n",
       "      <th>Gender</th>\n",
       "      <th>Age</th>\n",
       "      <th>First Transaction Date</th>\n",
       "      <th>No_Pol</th>\n",
       "      <th>Car_Category</th>\n",
       "      <th>Subject_Car_Colour</th>\n",
       "      <th>Subject_Car_Make</th>\n",
       "      <th>LGA_Name</th>\n",
       "      <th>State</th>\n",
       "      <th>ProductName</th>\n",
       "      <th>target</th>\n",
       "    </tr>\n",
       "  </thead>\n",
       "  <tbody>\n",
       "    <tr>\n",
       "      <th>0</th>\n",
       "      <td>0040R73</td>\n",
       "      <td>2010-05-14</td>\n",
       "      <td>2011-05-13</td>\n",
       "      <td>0.0</td>\n",
       "      <td>30</td>\n",
       "      <td>2010-05-14</td>\n",
       "      <td>1</td>\n",
       "      <td>Saloon</td>\n",
       "      <td>Black</td>\n",
       "      <td>TOYOTA</td>\n",
       "      <td>N-A</td>\n",
       "      <td>N-A</td>\n",
       "      <td>Car Classic</td>\n",
       "      <td>0</td>\n",
       "    </tr>\n",
       "    <tr>\n",
       "      <th>1</th>\n",
       "      <td>0046BNK</td>\n",
       "      <td>2010-11-29</td>\n",
       "      <td>2011-11-28</td>\n",
       "      <td>1.0</td>\n",
       "      <td>79</td>\n",
       "      <td>2010-11-29</td>\n",
       "      <td>1</td>\n",
       "      <td>JEEP</td>\n",
       "      <td>Grey</td>\n",
       "      <td>TOYOTA</td>\n",
       "      <td>N-A</td>\n",
       "      <td>N-A</td>\n",
       "      <td>Car Classic</td>\n",
       "      <td>1</td>\n",
       "    </tr>\n",
       "    <tr>\n",
       "      <th>2</th>\n",
       "      <td>005QMC3</td>\n",
       "      <td>2010-03-21</td>\n",
       "      <td>2011-03-20</td>\n",
       "      <td>0.0</td>\n",
       "      <td>43</td>\n",
       "      <td>2010-03-21</td>\n",
       "      <td>1</td>\n",
       "      <td>Saloon</td>\n",
       "      <td>Red</td>\n",
       "      <td>TOYOTA</td>\n",
       "      <td>N-A</td>\n",
       "      <td>N-A</td>\n",
       "      <td>Car Classic</td>\n",
       "      <td>0</td>\n",
       "    </tr>\n",
       "    <tr>\n",
       "      <th>3</th>\n",
       "      <td>0079OHW</td>\n",
       "      <td>2010-08-21</td>\n",
       "      <td>2011-08-20</td>\n",
       "      <td>0.0</td>\n",
       "      <td>2</td>\n",
       "      <td>2010-08-21</td>\n",
       "      <td>1</td>\n",
       "      <td>Saloon</td>\n",
       "      <td>Black</td>\n",
       "      <td>TOYOTA</td>\n",
       "      <td>N-A</td>\n",
       "      <td>N-A</td>\n",
       "      <td>CarSafe</td>\n",
       "      <td>0</td>\n",
       "    </tr>\n",
       "    <tr>\n",
       "      <th>4</th>\n",
       "      <td>00BRP63</td>\n",
       "      <td>2010-08-29</td>\n",
       "      <td>2010-12-31</td>\n",
       "      <td>3.0</td>\n",
       "      <td>20</td>\n",
       "      <td>2010-08-29</td>\n",
       "      <td>3</td>\n",
       "      <td>Saloon</td>\n",
       "      <td>Black</td>\n",
       "      <td>TOYOTA</td>\n",
       "      <td>Ikeja</td>\n",
       "      <td>Lagos</td>\n",
       "      <td>Muuve</td>\n",
       "      <td>1</td>\n",
       "    </tr>\n",
       "  </tbody>\n",
       "</table>\n",
       "</div>"
      ],
      "text/plain": [
       "        ID Policy Start Date Policy End Date  Gender  Age  \\\n",
       "0  0040R73        2010-05-14      2011-05-13     0.0   30   \n",
       "1  0046BNK        2010-11-29      2011-11-28     1.0   79   \n",
       "2  005QMC3        2010-03-21      2011-03-20     0.0   43   \n",
       "3  0079OHW        2010-08-21      2011-08-20     0.0    2   \n",
       "4  00BRP63        2010-08-29      2010-12-31     3.0   20   \n",
       "\n",
       "  First Transaction Date  No_Pol Car_Category Subject_Car_Colour  \\\n",
       "0             2010-05-14       1       Saloon              Black   \n",
       "1             2010-11-29       1         JEEP               Grey   \n",
       "2             2010-03-21       1       Saloon                Red   \n",
       "3             2010-08-21       1       Saloon              Black   \n",
       "4             2010-08-29       3       Saloon              Black   \n",
       "\n",
       "  Subject_Car_Make LGA_Name  State  ProductName  target  \n",
       "0           TOYOTA      N-A    N-A  Car Classic       0  \n",
       "1           TOYOTA      N-A    N-A  Car Classic       1  \n",
       "2           TOYOTA      N-A    N-A  Car Classic       0  \n",
       "3           TOYOTA      N-A    N-A      CarSafe       0  \n",
       "4           TOYOTA    Ikeja  Lagos        Muuve       1  "
      ]
     },
     "execution_count": 39,
     "metadata": {},
     "output_type": "execute_result"
    }
   ],
   "source": [
    "conv_age(train)"
   ]
  },
  {
   "cell_type": "code",
   "execution_count": 40,
   "metadata": {},
   "outputs": [
    {
     "data": {
      "text/html": [
       "<div>\n",
       "<style scoped>\n",
       "    .dataframe tbody tr th:only-of-type {\n",
       "        vertical-align: middle;\n",
       "    }\n",
       "\n",
       "    .dataframe tbody tr th {\n",
       "        vertical-align: top;\n",
       "    }\n",
       "\n",
       "    .dataframe thead th {\n",
       "        text-align: right;\n",
       "    }\n",
       "</style>\n",
       "<table border=\"1\" class=\"dataframe\">\n",
       "  <thead>\n",
       "    <tr style=\"text-align: right;\">\n",
       "      <th></th>\n",
       "      <th>ID</th>\n",
       "      <th>Policy Start Date</th>\n",
       "      <th>Policy End Date</th>\n",
       "      <th>Gender</th>\n",
       "      <th>Age</th>\n",
       "      <th>First Transaction Date</th>\n",
       "      <th>No_Pol</th>\n",
       "      <th>Car_Category</th>\n",
       "      <th>Subject_Car_Colour</th>\n",
       "      <th>Subject_Car_Make</th>\n",
       "      <th>LGA_Name</th>\n",
       "      <th>State</th>\n",
       "      <th>ProductName</th>\n",
       "    </tr>\n",
       "  </thead>\n",
       "  <tbody>\n",
       "    <tr>\n",
       "      <th>0</th>\n",
       "      <td>009D84L</td>\n",
       "      <td>2010-04-24</td>\n",
       "      <td>2011-03-27</td>\n",
       "      <td>3.0</td>\n",
       "      <td>25</td>\n",
       "      <td>2010-04-24</td>\n",
       "      <td>1</td>\n",
       "      <td>Saloon</td>\n",
       "      <td>As Attached</td>\n",
       "      <td>Iveco</td>\n",
       "      <td>Victoria Island</td>\n",
       "      <td>Lagos</td>\n",
       "      <td>CVTP</td>\n",
       "    </tr>\n",
       "    <tr>\n",
       "      <th>1</th>\n",
       "      <td>01DO2EQ</td>\n",
       "      <td>2010-01-01</td>\n",
       "      <td>2010-12-31</td>\n",
       "      <td>3.0</td>\n",
       "      <td>60</td>\n",
       "      <td>2010-01-01</td>\n",
       "      <td>4</td>\n",
       "      <td>Saloon</td>\n",
       "      <td>As Attached</td>\n",
       "      <td>TOYOTA</td>\n",
       "      <td>Victoria Island</td>\n",
       "      <td>Lagos</td>\n",
       "      <td>Muuve</td>\n",
       "    </tr>\n",
       "    <tr>\n",
       "      <th>2</th>\n",
       "      <td>01QM0NU</td>\n",
       "      <td>2010-10-23</td>\n",
       "      <td>2011-10-22</td>\n",
       "      <td>1.0</td>\n",
       "      <td>46</td>\n",
       "      <td>2010-10-23</td>\n",
       "      <td>1</td>\n",
       "      <td>Saloon</td>\n",
       "      <td>Black</td>\n",
       "      <td>Ford</td>\n",
       "      <td>Abuja Municipal</td>\n",
       "      <td>Abuja</td>\n",
       "      <td>Car Classic</td>\n",
       "    </tr>\n",
       "    <tr>\n",
       "      <th>3</th>\n",
       "      <td>024NJLZ</td>\n",
       "      <td>2010-10-14</td>\n",
       "      <td>2011-10-13</td>\n",
       "      <td>0.0</td>\n",
       "      <td>32</td>\n",
       "      <td>2010-10-14</td>\n",
       "      <td>1</td>\n",
       "      <td>Saloon</td>\n",
       "      <td>Black</td>\n",
       "      <td>TOYOTA</td>\n",
       "      <td>Kosofe</td>\n",
       "      <td>Benue</td>\n",
       "      <td>Car Classic</td>\n",
       "    </tr>\n",
       "    <tr>\n",
       "      <th>4</th>\n",
       "      <td>02BYET3</td>\n",
       "      <td>2010-09-16</td>\n",
       "      <td>2010-12-31</td>\n",
       "      <td>3.0</td>\n",
       "      <td>60</td>\n",
       "      <td>2010-09-16</td>\n",
       "      <td>4</td>\n",
       "      <td>Saloon</td>\n",
       "      <td>Black</td>\n",
       "      <td>TOYOTA</td>\n",
       "      <td>Victoria Island</td>\n",
       "      <td>Lagos</td>\n",
       "      <td>Muuve</td>\n",
       "    </tr>\n",
       "  </tbody>\n",
       "</table>\n",
       "</div>"
      ],
      "text/plain": [
       "        ID Policy Start Date Policy End Date  Gender  Age  \\\n",
       "0  009D84L        2010-04-24      2011-03-27     3.0   25   \n",
       "1  01DO2EQ        2010-01-01      2010-12-31     3.0   60   \n",
       "2  01QM0NU        2010-10-23      2011-10-22     1.0   46   \n",
       "3  024NJLZ        2010-10-14      2011-10-13     0.0   32   \n",
       "4  02BYET3        2010-09-16      2010-12-31     3.0   60   \n",
       "\n",
       "  First Transaction Date  No_Pol Car_Category Subject_Car_Colour  \\\n",
       "0             2010-04-24       1       Saloon        As Attached   \n",
       "1             2010-01-01       4       Saloon        As Attached   \n",
       "2             2010-10-23       1       Saloon              Black   \n",
       "3             2010-10-14       1       Saloon              Black   \n",
       "4             2010-09-16       4       Saloon              Black   \n",
       "\n",
       "  Subject_Car_Make         LGA_Name  State  ProductName  \n",
       "0            Iveco  Victoria Island  Lagos         CVTP  \n",
       "1           TOYOTA  Victoria Island  Lagos        Muuve  \n",
       "2             Ford  Abuja Municipal  Abuja  Car Classic  \n",
       "3           TOYOTA           Kosofe  Benue  Car Classic  \n",
       "4           TOYOTA  Victoria Island  Lagos        Muuve  "
      ]
     },
     "execution_count": 40,
     "metadata": {},
     "output_type": "execute_result"
    }
   ],
   "source": [
    "conv_age(test)"
   ]
  },
  {
   "cell_type": "code",
   "execution_count": 41,
   "metadata": {},
   "outputs": [
    {
     "data": {
      "text/html": [
       "<div>\n",
       "<style scoped>\n",
       "    .dataframe tbody tr th:only-of-type {\n",
       "        vertical-align: middle;\n",
       "    }\n",
       "\n",
       "    .dataframe tbody tr th {\n",
       "        vertical-align: top;\n",
       "    }\n",
       "\n",
       "    .dataframe thead th {\n",
       "        text-align: right;\n",
       "    }\n",
       "</style>\n",
       "<table border=\"1\" class=\"dataframe\">\n",
       "  <thead>\n",
       "    <tr style=\"text-align: right;\">\n",
       "      <th></th>\n",
       "      <th>ID</th>\n",
       "      <th>Unique ID for the customer</th>\n",
       "    </tr>\n",
       "  </thead>\n",
       "  <tbody>\n",
       "    <tr>\n",
       "      <th>0</th>\n",
       "      <td>Policy Start Date</td>\n",
       "      <td>Date policy started</td>\n",
       "    </tr>\n",
       "    <tr>\n",
       "      <th>1</th>\n",
       "      <td>Policy End Date</td>\n",
       "      <td>Date policy ended</td>\n",
       "    </tr>\n",
       "    <tr>\n",
       "      <th>2</th>\n",
       "      <td>Gender</td>\n",
       "      <td>Gender of the customer</td>\n",
       "    </tr>\n",
       "    <tr>\n",
       "      <th>3</th>\n",
       "      <td>Age</td>\n",
       "      <td>Age of the customer</td>\n",
       "    </tr>\n",
       "    <tr>\n",
       "      <th>4</th>\n",
       "      <td>ProductName</td>\n",
       "      <td>Name of Insurance policy</td>\n",
       "    </tr>\n",
       "    <tr>\n",
       "      <th>5</th>\n",
       "      <td>First Transaction Date</td>\n",
       "      <td>First date payment was made</td>\n",
       "    </tr>\n",
       "    <tr>\n",
       "      <th>6</th>\n",
       "      <td>No_Pol</td>\n",
       "      <td>Number of policies the customer has</td>\n",
       "    </tr>\n",
       "    <tr>\n",
       "      <th>7</th>\n",
       "      <td>Car_Category</td>\n",
       "      <td>Type of car</td>\n",
       "    </tr>\n",
       "    <tr>\n",
       "      <th>8</th>\n",
       "      <td>Subject_Car_Colour</td>\n",
       "      <td>Car colour</td>\n",
       "    </tr>\n",
       "    <tr>\n",
       "      <th>9</th>\n",
       "      <td>Subject_Car_Make</td>\n",
       "      <td>Car make</td>\n",
       "    </tr>\n",
       "    <tr>\n",
       "      <th>10</th>\n",
       "      <td>LGA_Name</td>\n",
       "      <td>City where policy was purchased</td>\n",
       "    </tr>\n",
       "    <tr>\n",
       "      <th>11</th>\n",
       "      <td>State</td>\n",
       "      <td>State where policy was purchased</td>\n",
       "    </tr>\n",
       "    <tr>\n",
       "      <th>12</th>\n",
       "      <td>No_of_claims_3_mon_period</td>\n",
       "      <td>Wether the customer claimed within a 3 month p...</td>\n",
       "    </tr>\n",
       "  </tbody>\n",
       "</table>\n",
       "</div>"
      ],
      "text/plain": [
       "                           ID  \\\n",
       "0           Policy Start Date   \n",
       "1             Policy End Date   \n",
       "2                      Gender   \n",
       "3                         Age   \n",
       "4                 ProductName   \n",
       "5      First Transaction Date   \n",
       "6                      No_Pol   \n",
       "7                Car_Category   \n",
       "8          Subject_Car_Colour   \n",
       "9            Subject_Car_Make   \n",
       "10                   LGA_Name   \n",
       "11                      State   \n",
       "12  No_of_claims_3_mon_period   \n",
       "\n",
       "                           Unique ID for the customer  \n",
       "0                                 Date policy started  \n",
       "1                                   Date policy ended  \n",
       "2                              Gender of the customer  \n",
       "3                                 Age of the customer  \n",
       "4                            Name of Insurance policy  \n",
       "5                         First date payment was made  \n",
       "6                 Number of policies the customer has  \n",
       "7                                         Type of car  \n",
       "8                                          Car colour  \n",
       "9                                            Car make  \n",
       "10                    City where policy was purchased  \n",
       "11                   State where policy was purchased  \n",
       "12  Wether the customer claimed within a 3 month p...  "
      ]
     },
     "execution_count": 41,
     "metadata": {},
     "output_type": "execute_result"
    }
   ],
   "source": [
    "variable_def"
   ]
  },
  {
   "cell_type": "code",
   "execution_count": 42,
   "metadata": {},
   "outputs": [
    {
     "data": {
      "text/plain": [
       "(5177, 2)"
      ]
     },
     "execution_count": 42,
     "metadata": {},
     "output_type": "execute_result"
    }
   ],
   "source": [
    "ss.shape"
   ]
  },
  {
   "cell_type": "code",
   "execution_count": 43,
   "metadata": {},
   "outputs": [
    {
     "data": {
      "text/plain": [
       "(5177, 13)"
      ]
     },
     "execution_count": 43,
     "metadata": {},
     "output_type": "execute_result"
    }
   ],
   "source": [
    "test.shape"
   ]
  },
  {
   "cell_type": "code",
   "execution_count": 44,
   "metadata": {},
   "outputs": [],
   "source": [
    "date_col = ['Policy Start Date','Policy End Date','First Transaction Date']"
   ]
  },
  {
   "cell_type": "code",
   "execution_count": 45,
   "metadata": {},
   "outputs": [],
   "source": [
    "for feat in date_col:\n",
    "    train[feat] = pd.to_datetime(train[feat])"
   ]
  },
  {
   "cell_type": "code",
   "execution_count": 46,
   "metadata": {},
   "outputs": [],
   "source": [
    "for feat in date_col:\n",
    "    test[feat] = pd.to_datetime(test[feat])"
   ]
  },
  {
   "cell_type": "code",
   "execution_count": 47,
   "metadata": {},
   "outputs": [],
   "source": [
    "def extract_date_info(df,cols):\n",
    "    for feat in cols:\n",
    "        df[feat +'_year'] = df[feat].dt.quarter\n",
    "        df[feat +'_day'] = df[feat].dt.day\n",
    "        df[feat +'_month'] = df[feat].dt.month\n",
    "        df[feat +'_quarter'] = df[feat].dt.quarter\n",
    "    df.drop(columns=date_col,axis=1,inplace=True)"
   ]
  },
  {
   "cell_type": "code",
   "execution_count": 48,
   "metadata": {},
   "outputs": [],
   "source": [
    "extract_date_info(test,date_col)"
   ]
  },
  {
   "cell_type": "code",
   "execution_count": 49,
   "metadata": {},
   "outputs": [],
   "source": [
    "extract_date_info(train,date_col)"
   ]
  },
  {
   "cell_type": "code",
   "execution_count": 50,
   "metadata": {},
   "outputs": [],
   "source": [
    "train.drop('ID',axis=1,inplace=True)\n",
    "test.drop('ID',axis=1,inplace=True)"
   ]
  },
  {
   "cell_type": "code",
   "execution_count": 51,
   "metadata": {},
   "outputs": [],
   "source": [
    "train['Gender'] = train['Gender'].astype(int)\n",
    "test['Gender'] = test['Gender'].astype(int)"
   ]
  },
  {
   "cell_type": "code",
   "execution_count": 52,
   "metadata": {},
   "outputs": [
    {
     "data": {
      "text/html": [
       "<div>\n",
       "<style scoped>\n",
       "    .dataframe tbody tr th:only-of-type {\n",
       "        vertical-align: middle;\n",
       "    }\n",
       "\n",
       "    .dataframe tbody tr th {\n",
       "        vertical-align: top;\n",
       "    }\n",
       "\n",
       "    .dataframe thead th {\n",
       "        text-align: right;\n",
       "    }\n",
       "</style>\n",
       "<table border=\"1\" class=\"dataframe\">\n",
       "  <thead>\n",
       "    <tr style=\"text-align: right;\">\n",
       "      <th></th>\n",
       "      <th>Gender</th>\n",
       "      <th>Age</th>\n",
       "      <th>No_Pol</th>\n",
       "      <th>Car_Category</th>\n",
       "      <th>Subject_Car_Colour</th>\n",
       "      <th>Subject_Car_Make</th>\n",
       "      <th>LGA_Name</th>\n",
       "      <th>State</th>\n",
       "      <th>ProductName</th>\n",
       "      <th>target</th>\n",
       "      <th>Policy Start Date_year</th>\n",
       "      <th>Policy Start Date_day</th>\n",
       "      <th>Policy Start Date_month</th>\n",
       "      <th>Policy Start Date_quarter</th>\n",
       "      <th>Policy End Date_year</th>\n",
       "      <th>Policy End Date_day</th>\n",
       "      <th>Policy End Date_month</th>\n",
       "      <th>Policy End Date_quarter</th>\n",
       "      <th>First Transaction Date_year</th>\n",
       "      <th>First Transaction Date_day</th>\n",
       "      <th>First Transaction Date_month</th>\n",
       "      <th>First Transaction Date_quarter</th>\n",
       "    </tr>\n",
       "  </thead>\n",
       "  <tbody>\n",
       "    <tr>\n",
       "      <th>0</th>\n",
       "      <td>0</td>\n",
       "      <td>30</td>\n",
       "      <td>1</td>\n",
       "      <td>Saloon</td>\n",
       "      <td>Black</td>\n",
       "      <td>TOYOTA</td>\n",
       "      <td>N-A</td>\n",
       "      <td>N-A</td>\n",
       "      <td>Car Classic</td>\n",
       "      <td>0</td>\n",
       "      <td>2</td>\n",
       "      <td>14</td>\n",
       "      <td>5</td>\n",
       "      <td>2</td>\n",
       "      <td>2</td>\n",
       "      <td>13</td>\n",
       "      <td>5</td>\n",
       "      <td>2</td>\n",
       "      <td>2</td>\n",
       "      <td>14</td>\n",
       "      <td>5</td>\n",
       "      <td>2</td>\n",
       "    </tr>\n",
       "    <tr>\n",
       "      <th>1</th>\n",
       "      <td>1</td>\n",
       "      <td>79</td>\n",
       "      <td>1</td>\n",
       "      <td>JEEP</td>\n",
       "      <td>Grey</td>\n",
       "      <td>TOYOTA</td>\n",
       "      <td>N-A</td>\n",
       "      <td>N-A</td>\n",
       "      <td>Car Classic</td>\n",
       "      <td>1</td>\n",
       "      <td>4</td>\n",
       "      <td>29</td>\n",
       "      <td>11</td>\n",
       "      <td>4</td>\n",
       "      <td>4</td>\n",
       "      <td>28</td>\n",
       "      <td>11</td>\n",
       "      <td>4</td>\n",
       "      <td>4</td>\n",
       "      <td>29</td>\n",
       "      <td>11</td>\n",
       "      <td>4</td>\n",
       "    </tr>\n",
       "    <tr>\n",
       "      <th>2</th>\n",
       "      <td>0</td>\n",
       "      <td>43</td>\n",
       "      <td>1</td>\n",
       "      <td>Saloon</td>\n",
       "      <td>Red</td>\n",
       "      <td>TOYOTA</td>\n",
       "      <td>N-A</td>\n",
       "      <td>N-A</td>\n",
       "      <td>Car Classic</td>\n",
       "      <td>0</td>\n",
       "      <td>1</td>\n",
       "      <td>21</td>\n",
       "      <td>3</td>\n",
       "      <td>1</td>\n",
       "      <td>1</td>\n",
       "      <td>20</td>\n",
       "      <td>3</td>\n",
       "      <td>1</td>\n",
       "      <td>1</td>\n",
       "      <td>21</td>\n",
       "      <td>3</td>\n",
       "      <td>1</td>\n",
       "    </tr>\n",
       "    <tr>\n",
       "      <th>3</th>\n",
       "      <td>0</td>\n",
       "      <td>2</td>\n",
       "      <td>1</td>\n",
       "      <td>Saloon</td>\n",
       "      <td>Black</td>\n",
       "      <td>TOYOTA</td>\n",
       "      <td>N-A</td>\n",
       "      <td>N-A</td>\n",
       "      <td>CarSafe</td>\n",
       "      <td>0</td>\n",
       "      <td>3</td>\n",
       "      <td>21</td>\n",
       "      <td>8</td>\n",
       "      <td>3</td>\n",
       "      <td>3</td>\n",
       "      <td>20</td>\n",
       "      <td>8</td>\n",
       "      <td>3</td>\n",
       "      <td>3</td>\n",
       "      <td>21</td>\n",
       "      <td>8</td>\n",
       "      <td>3</td>\n",
       "    </tr>\n",
       "    <tr>\n",
       "      <th>4</th>\n",
       "      <td>3</td>\n",
       "      <td>20</td>\n",
       "      <td>3</td>\n",
       "      <td>Saloon</td>\n",
       "      <td>Black</td>\n",
       "      <td>TOYOTA</td>\n",
       "      <td>Ikeja</td>\n",
       "      <td>Lagos</td>\n",
       "      <td>Muuve</td>\n",
       "      <td>1</td>\n",
       "      <td>3</td>\n",
       "      <td>29</td>\n",
       "      <td>8</td>\n",
       "      <td>3</td>\n",
       "      <td>4</td>\n",
       "      <td>31</td>\n",
       "      <td>12</td>\n",
       "      <td>4</td>\n",
       "      <td>3</td>\n",
       "      <td>29</td>\n",
       "      <td>8</td>\n",
       "      <td>3</td>\n",
       "    </tr>\n",
       "  </tbody>\n",
       "</table>\n",
       "</div>"
      ],
      "text/plain": [
       "   Gender  Age  No_Pol Car_Category Subject_Car_Colour Subject_Car_Make  \\\n",
       "0       0   30       1       Saloon              Black           TOYOTA   \n",
       "1       1   79       1         JEEP               Grey           TOYOTA   \n",
       "2       0   43       1       Saloon                Red           TOYOTA   \n",
       "3       0    2       1       Saloon              Black           TOYOTA   \n",
       "4       3   20       3       Saloon              Black           TOYOTA   \n",
       "\n",
       "  LGA_Name  State  ProductName  target  Policy Start Date_year  \\\n",
       "0      N-A    N-A  Car Classic       0                       2   \n",
       "1      N-A    N-A  Car Classic       1                       4   \n",
       "2      N-A    N-A  Car Classic       0                       1   \n",
       "3      N-A    N-A      CarSafe       0                       3   \n",
       "4    Ikeja  Lagos        Muuve       1                       3   \n",
       "\n",
       "   Policy Start Date_day  Policy Start Date_month  Policy Start Date_quarter  \\\n",
       "0                     14                        5                          2   \n",
       "1                     29                       11                          4   \n",
       "2                     21                        3                          1   \n",
       "3                     21                        8                          3   \n",
       "4                     29                        8                          3   \n",
       "\n",
       "   Policy End Date_year  Policy End Date_day  Policy End Date_month  \\\n",
       "0                     2                   13                      5   \n",
       "1                     4                   28                     11   \n",
       "2                     1                   20                      3   \n",
       "3                     3                   20                      8   \n",
       "4                     4                   31                     12   \n",
       "\n",
       "   Policy End Date_quarter  First Transaction Date_year  \\\n",
       "0                        2                            2   \n",
       "1                        4                            4   \n",
       "2                        1                            1   \n",
       "3                        3                            3   \n",
       "4                        4                            3   \n",
       "\n",
       "   First Transaction Date_day  First Transaction Date_month  \\\n",
       "0                          14                             5   \n",
       "1                          29                            11   \n",
       "2                          21                             3   \n",
       "3                          21                             8   \n",
       "4                          29                             8   \n",
       "\n",
       "   First Transaction Date_quarter  \n",
       "0                               2  \n",
       "1                               4  \n",
       "2                               1  \n",
       "3                               3  \n",
       "4                               3  "
      ]
     },
     "execution_count": 52,
     "metadata": {},
     "output_type": "execute_result"
    }
   ],
   "source": [
    "train.head()"
   ]
  },
  {
   "cell_type": "code",
   "execution_count": 53,
   "metadata": {},
   "outputs": [],
   "source": [
    "#from sklearn.preprocessing import StandardScaler"
   ]
  },
  {
   "cell_type": "code",
   "execution_count": 54,
   "metadata": {},
   "outputs": [],
   "source": [
    "#from sklearn.pipeline import Pipeline\n",
    "#from sklearn.compose import ColumnTransformer"
   ]
  },
  {
   "cell_type": "code",
   "execution_count": 55,
   "metadata": {},
   "outputs": [],
   "source": [
    "X = train.drop('target',axis=1)\n",
    "y = train['target']"
   ]
  },
  {
   "cell_type": "code",
   "execution_count": 56,
   "metadata": {},
   "outputs": [],
   "source": [
    "#num_attribs = list(X)"
   ]
  },
  {
   "cell_type": "code",
   "execution_count": 57,
   "metadata": {},
   "outputs": [],
   "source": [
    "#num_pipeline = Pipeline(steps=[('std_scaler', StandardScaler())])\n",
    "\n",
    "#full_pipeline = ColumnTransformer([('num',num_pipeline,num_attribs)])"
   ]
  },
  {
   "cell_type": "code",
   "execution_count": 58,
   "metadata": {},
   "outputs": [],
   "source": [
    "#X = full_pipeline.fit_transform(X)"
   ]
  },
  {
   "cell_type": "code",
   "execution_count": 59,
   "metadata": {},
   "outputs": [],
   "source": [
    "#test = full_pipeline.transform(test)"
   ]
  },
  {
   "cell_type": "code",
   "execution_count": 73,
   "metadata": {},
   "outputs": [],
   "source": [
    "X_train, X_test, y_train, y_test = train_test_split(X,y,test_size=0.33, random_state=42)"
   ]
  },
  {
   "cell_type": "code",
   "execution_count": 74,
   "metadata": {},
   "outputs": [],
   "source": [
    "categorical_feat = ['Gender', 'Age', 'No_Pol', 'Car_Category', 'Subject_Car_Colour',\n",
    "       'Subject_Car_Make', 'LGA_Name', 'State', 'ProductName']"
   ]
  },
  {
   "cell_type": "code",
   "execution_count": 75,
   "metadata": {},
   "outputs": [],
   "source": [
    "from catboost import CatBoostClassifier"
   ]
  },
  {
   "cell_type": "code",
   "execution_count": 89,
   "metadata": {},
   "outputs": [],
   "source": [
    "model = CatBoostClassifier(random_state=1,random_strength=0,n_estimators=5000,\n",
    "                        learning_rate=0.02,depth=12,l2_leaf_reg=10,\n",
    "                        bagging_temperature=0.2,od_type='Iter',metric_period=1000,\n",
    "                           od_wait=100,cat_features=categorical_feat)"
   ]
  },
  {
   "cell_type": "code",
   "execution_count": 90,
   "metadata": {},
   "outputs": [
    {
     "name": "stdout",
     "output_type": "stream",
     "text": [
      "0:\tlearn: 0.6722996\ttotal: 116ms\tremaining: 9m 37s\n",
      "1000:\tlearn: 0.1157088\ttotal: 1m 41s\tremaining: 6m 47s\n",
      "2000:\tlearn: 0.0618567\ttotal: 3m 24s\tremaining: 5m 6s\n",
      "3000:\tlearn: 0.0370503\ttotal: 5m 9s\tremaining: 3m 25s\n",
      "4000:\tlearn: 0.0272592\ttotal: 6m 51s\tremaining: 1m 42s\n",
      "4999:\tlearn: 0.0209426\ttotal: 8m 32s\tremaining: 0us\n"
     ]
    },
    {
     "data": {
      "text/plain": [
       "<catboost.core.CatBoostClassifier at 0x7fdb545147c0>"
      ]
     },
     "execution_count": 90,
     "metadata": {},
     "output_type": "execute_result"
    }
   ],
   "source": [
    "model.fit(X_train,y_train)"
   ]
  },
  {
   "cell_type": "code",
   "execution_count": 92,
   "metadata": {},
   "outputs": [],
   "source": [
    "y_pred = model.predict(X_train)"
   ]
  },
  {
   "cell_type": "code",
   "execution_count": 93,
   "metadata": {},
   "outputs": [],
   "source": [
    "from sklearn.metrics import classification_report"
   ]
  },
  {
   "cell_type": "code",
   "execution_count": 94,
   "metadata": {},
   "outputs": [
    {
     "name": "stdout",
     "output_type": "stream",
     "text": [
      "*************** Classification report on training set ********************\n",
      "              precision    recall  f1-score   support\n",
      "\n",
      "     class 0       0.92      0.99      0.95      7110\n",
      "     class 1       0.79      0.34      0.48       982\n",
      "\n",
      "    accuracy                           0.91      8092\n",
      "   macro avg       0.85      0.66      0.71      8092\n",
      "weighted avg       0.90      0.91      0.89      8092\n",
      "\n"
     ]
    }
   ],
   "source": [
    "target_names = ['class 0', 'class 1']\n",
    "print('*************** Classification report on training set ********************')\n",
    "print(classification_report(y_train, y_pred, target_names=target_names))"
   ]
  },
  {
   "cell_type": "code",
   "execution_count": 95,
   "metadata": {},
   "outputs": [
    {
     "name": "stdout",
     "output_type": "stream",
     "text": [
      "*************** Classification report on testing set ********************\n",
      "              precision    recall  f1-score   support\n",
      "\n",
      "     class 0       0.89      0.98      0.93      3514\n",
      "     class 1       0.38      0.11      0.17       473\n",
      "\n",
      "    accuracy                           0.87      3987\n",
      "   macro avg       0.63      0.54      0.55      3987\n",
      "weighted avg       0.83      0.87      0.84      3987\n",
      "\n"
     ]
    }
   ],
   "source": [
    "print('*************** Classification report on testing set ********************')\n",
    "print(classification_report(y_test, model.predict(X_test), target_names=target_names))"
   ]
  },
  {
   "cell_type": "code",
   "execution_count": null,
   "metadata": {},
   "outputs": [],
   "source": []
  },
  {
   "cell_type": "code",
   "execution_count": 96,
   "metadata": {},
   "outputs": [
    {
     "name": "stdout",
     "output_type": "stream",
     "text": [
      "0:\tlearn: 0.6699108\ttotal: 285ms\tremaining: 23m 46s\n",
      "1000:\tlearn: 0.1260905\ttotal: 4m 12s\tremaining: 16m 48s\n",
      "2000:\tlearn: 0.0768473\ttotal: 8m 31s\tremaining: 12m 45s\n",
      "3000:\tlearn: 0.0514449\ttotal: 12m 35s\tremaining: 8m 23s\n",
      "4000:\tlearn: 0.0354001\ttotal: 17m 16s\tremaining: 4m 18s\n",
      "4999:\tlearn: 0.0255715\ttotal: 22m 8s\tremaining: 0us\n"
     ]
    },
    {
     "data": {
      "text/plain": [
       "<catboost.core.CatBoostClassifier at 0x7fdb545147c0>"
      ]
     },
     "execution_count": 96,
     "metadata": {},
     "output_type": "execute_result"
    }
   ],
   "source": [
    "model.fit(X,y)"
   ]
  },
  {
   "cell_type": "code",
   "execution_count": 101,
   "metadata": {},
   "outputs": [],
   "source": [
    "prediction = model.predict(test)"
   ]
  },
  {
   "cell_type": "code",
   "execution_count": 102,
   "metadata": {},
   "outputs": [],
   "source": [
    "ss.target = prediction"
   ]
  },
  {
   "cell_type": "code",
   "execution_count": 103,
   "metadata": {},
   "outputs": [],
   "source": [
    "ss.to_csv('base_model5.csv',index=False)"
   ]
  },
  {
   "cell_type": "code",
   "execution_count": 104,
   "metadata": {},
   "outputs": [
    {
     "data": {
      "text/html": [
       "<div>\n",
       "<style scoped>\n",
       "    .dataframe tbody tr th:only-of-type {\n",
       "        vertical-align: middle;\n",
       "    }\n",
       "\n",
       "    .dataframe tbody tr th {\n",
       "        vertical-align: top;\n",
       "    }\n",
       "\n",
       "    .dataframe thead th {\n",
       "        text-align: right;\n",
       "    }\n",
       "</style>\n",
       "<table border=\"1\" class=\"dataframe\">\n",
       "  <thead>\n",
       "    <tr style=\"text-align: right;\">\n",
       "      <th></th>\n",
       "      <th>ID</th>\n",
       "      <th>target</th>\n",
       "    </tr>\n",
       "  </thead>\n",
       "  <tbody>\n",
       "    <tr>\n",
       "      <th>0</th>\n",
       "      <td>009D84L</td>\n",
       "      <td>0.752106</td>\n",
       "    </tr>\n",
       "    <tr>\n",
       "      <th>1</th>\n",
       "      <td>01DO2EQ</td>\n",
       "      <td>0.842445</td>\n",
       "    </tr>\n",
       "    <tr>\n",
       "      <th>2</th>\n",
       "      <td>01QM0NU</td>\n",
       "      <td>0.013718</td>\n",
       "    </tr>\n",
       "    <tr>\n",
       "      <th>3</th>\n",
       "      <td>024NJLZ</td>\n",
       "      <td>0.049929</td>\n",
       "    </tr>\n",
       "    <tr>\n",
       "      <th>4</th>\n",
       "      <td>02BYET3</td>\n",
       "      <td>0.928727</td>\n",
       "    </tr>\n",
       "  </tbody>\n",
       "</table>\n",
       "</div>"
      ],
      "text/plain": [
       "        ID    target\n",
       "0  009D84L  0.752106\n",
       "1  01DO2EQ  0.842445\n",
       "2  01QM0NU  0.013718\n",
       "3  024NJLZ  0.049929\n",
       "4  02BYET3  0.928727"
      ]
     },
     "execution_count": 104,
     "metadata": {},
     "output_type": "execute_result"
    }
   ],
   "source": [
    "ss.head()"
   ]
  },
  {
   "cell_type": "code",
   "execution_count": null,
   "metadata": {},
   "outputs": [],
   "source": []
  }
 ],
 "metadata": {
  "kernelspec": {
   "display_name": "Python 3",
   "language": "python",
   "name": "python3"
  },
  "language_info": {
   "codemirror_mode": {
    "name": "ipython",
    "version": 3
   },
   "file_extension": ".py",
   "mimetype": "text/x-python",
   "name": "python",
   "nbconvert_exporter": "python",
   "pygments_lexer": "ipython3",
   "version": "3.8.3"
  }
 },
 "nbformat": 4,
 "nbformat_minor": 4
}
