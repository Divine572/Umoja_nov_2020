{
 "cells": [
  {
   "cell_type": "markdown",
   "metadata": {},
   "source": [
    "# Import libraries "
   ]
  },
  {
   "cell_type": "code",
   "execution_count": 2,
   "metadata": {},
   "outputs": [],
   "source": [
    "import pandas as pd\n",
    "import numpy as np\n",
    "import datetime\n",
    "\n",
    "import seaborn as sns\n",
    "import matplotlib.pyplot as plt\n",
    "\n",
    "from sklearn.model_selection import train_test_split"
   ]
  },
  {
   "cell_type": "markdown",
   "metadata": {},
   "source": [
    "# Read data "
   ]
  },
  {
   "cell_type": "code",
   "execution_count": 3,
   "metadata": {},
   "outputs": [],
   "source": [
    "train = pd.read_csv('Datasets/Train.csv')\n",
    "test = pd.read_csv('Datasets/Test.csv')\n",
    "ss = pd.read_csv('Datasets/SampleSubmission.csv')\n",
    "variable_def = pd.read_csv('Datasets/VariableDefinitions.csv')"
   ]
  },
  {
   "cell_type": "markdown",
   "metadata": {},
   "source": [
    "#### Submission by class distribution"
   ]
  },
  {
   "cell_type": "code",
   "execution_count": 6,
   "metadata": {},
   "outputs": [],
   "source": [
    "y = train.target"
   ]
  },
  {
   "cell_type": "code",
   "execution_count": 7,
   "metadata": {},
   "outputs": [
    {
     "name": "stdout",
     "output_type": "stream",
     "text": [
      "0    10624\n",
      "1     1455\n",
      "Name: target, dtype: int64\n"
     ]
    },
    {
     "data": {
      "text/plain": [
       "<AxesSubplot:xlabel='target', ylabel='count'>"
      ]
     },
     "execution_count": 7,
     "metadata": {},
     "output_type": "execute_result"
    },
    {
     "data": {
      "image/png": "[encoded data removed]",
      "text/plain": [
       "<Figure size 432x288 with 1 Axes>"
      ]
     },
     "metadata": {
      "needs_background": "light"
     },
     "output_type": "display_data"
    }
   ],
   "source": [
    "print(y.value_counts())\n",
    "\n",
    "\n",
    "sns.countplot(y)"
   ]
  },
  {
   "cell_type": "code",
   "execution_count": 8,
   "metadata": {},
   "outputs": [
    {
     "data": {
      "text/plain": [
       "0"
      ]
     },
     "execution_count": 8,
     "metadata": {},
     "output_type": "execute_result"
    }
   ],
   "source": [
    "y.value_counts().index[0]"
   ]
  },
  {
   "cell_type": "code",
   "execution_count": 9,
   "metadata": {},
   "outputs": [],
   "source": [
    "distrib_sub = ss.copy()"
   ]
  },
  {
   "cell_type": "code",
   "execution_count": 10,
   "metadata": {},
   "outputs": [
    {
     "data": {
      "text/html": [
       "<div>\n",
       "<style scoped>\n",
       "    .dataframe tbody tr th:only-of-type {\n",
       "        vertical-align: middle;\n",
       "    }\n",
       "\n",
       "    .dataframe tbody tr th {\n",
       "        vertical-align: top;\n",
       "    }\n",
       "\n",
       "    .dataframe thead th {\n",
       "        text-align: right;\n",
       "    }\n",
       "</style>\n",
       "<table border=\"1\" class=\"dataframe\">\n",
       "  <thead>\n",
       "    <tr style=\"text-align: right;\">\n",
       "      <th></th>\n",
       "      <th>ID</th>\n",
       "      <th>target</th>\n",
       "    </tr>\n",
       "  </thead>\n",
       "  <tbody>\n",
       "    <tr>\n",
       "      <th>0</th>\n",
       "      <td>009D84L</td>\n",
       "      <td>0</td>\n",
       "    </tr>\n",
       "    <tr>\n",
       "      <th>1</th>\n",
       "      <td>01DO2EQ</td>\n",
       "      <td>0</td>\n",
       "    </tr>\n",
       "    <tr>\n",
       "      <th>2</th>\n",
       "      <td>01QM0NU</td>\n",
       "      <td>0</td>\n",
       "    </tr>\n",
       "    <tr>\n",
       "      <th>3</th>\n",
       "      <td>024NJLZ</td>\n",
       "      <td>0</td>\n",
       "    </tr>\n",
       "    <tr>\n",
       "      <th>4</th>\n",
       "      <td>02BYET3</td>\n",
       "      <td>0</td>\n",
       "    </tr>\n",
       "  </tbody>\n",
       "</table>\n",
       "</div>"
      ],
      "text/plain": [
       "        ID  target\n",
       "0  009D84L       0\n",
       "1  01DO2EQ       0\n",
       "2  01QM0NU       0\n",
       "3  024NJLZ       0\n",
       "4  02BYET3       0"
      ]
     },
     "execution_count": 10,
     "metadata": {},
     "output_type": "execute_result"
    }
   ],
   "source": [
    "distrib_sub.head()"
   ]
  },
  {
   "cell_type": "code",
   "execution_count": 11,
   "metadata": {},
   "outputs": [],
   "source": [
    "distrib_sub['target'] = y.value_counts().index[0]"
   ]
  },
  {
   "cell_type": "code",
   "execution_count": 12,
   "metadata": {},
   "outputs": [],
   "source": [
    "distrib_sub.to_csv('umoja_subzero.csv', index= False)"
   ]
  },
  {
   "cell_type": "markdown",
   "metadata": {},
   "source": [
    "# Simple EDA"
   ]
  },
  {
   "cell_type": "code",
   "execution_count": 13,
   "metadata": {},
   "outputs": [
    {
     "data": {
      "text/html": [
       "<div>\n",
       "<style scoped>\n",
       "    .dataframe tbody tr th:only-of-type {\n",
       "        vertical-align: middle;\n",
       "    }\n",
       "\n",
       "    .dataframe tbody tr th {\n",
       "        vertical-align: top;\n",
       "    }\n",
       "\n",
       "    .dataframe thead th {\n",
       "        text-align: right;\n",
       "    }\n",
       "</style>\n",
       "<table border=\"1\" class=\"dataframe\">\n",
       "  <thead>\n",
       "    <tr style=\"text-align: right;\">\n",
       "      <th></th>\n",
       "      <th>ID</th>\n",
       "      <th>Unique ID for the customer</th>\n",
       "    </tr>\n",
       "  </thead>\n",
       "  <tbody>\n",
       "    <tr>\n",
       "      <th>0</th>\n",
       "      <td>Policy Start Date</td>\n",
       "      <td>Date policy started</td>\n",
       "    </tr>\n",
       "    <tr>\n",
       "      <th>1</th>\n",
       "      <td>Policy End Date</td>\n",
       "      <td>Date policy ended</td>\n",
       "    </tr>\n",
       "    <tr>\n",
       "      <th>2</th>\n",
       "      <td>Gender</td>\n",
       "      <td>Gender of the customer</td>\n",
       "    </tr>\n",
       "    <tr>\n",
       "      <th>3</th>\n",
       "      <td>Age</td>\n",
       "      <td>Age of the customer</td>\n",
       "    </tr>\n",
       "    <tr>\n",
       "      <th>4</th>\n",
       "      <td>ProductName</td>\n",
       "      <td>Name of Insurance policy</td>\n",
       "    </tr>\n",
       "    <tr>\n",
       "      <th>5</th>\n",
       "      <td>First Transaction Date</td>\n",
       "      <td>First date payment was made</td>\n",
       "    </tr>\n",
       "    <tr>\n",
       "      <th>6</th>\n",
       "      <td>No_Pol</td>\n",
       "      <td>Number of policies the customer has</td>\n",
       "    </tr>\n",
       "    <tr>\n",
       "      <th>7</th>\n",
       "      <td>Car_Category</td>\n",
       "      <td>Type of car</td>\n",
       "    </tr>\n",
       "    <tr>\n",
       "      <th>8</th>\n",
       "      <td>Subject_Car_Colour</td>\n",
       "      <td>Car colour</td>\n",
       "    </tr>\n",
       "    <tr>\n",
       "      <th>9</th>\n",
       "      <td>Subject_Car_Make</td>\n",
       "      <td>Car make</td>\n",
       "    </tr>\n",
       "    <tr>\n",
       "      <th>10</th>\n",
       "      <td>LGA_Name</td>\n",
       "      <td>City where policy was purchased</td>\n",
       "    </tr>\n",
       "    <tr>\n",
       "      <th>11</th>\n",
       "      <td>State</td>\n",
       "      <td>State where policy was purchased</td>\n",
       "    </tr>\n",
       "    <tr>\n",
       "      <th>12</th>\n",
       "      <td>No_of_claims_3_mon_period</td>\n",
       "      <td>Wether the customer claimed within a 3 month p...</td>\n",
       "    </tr>\n",
       "  </tbody>\n",
       "</table>\n",
       "</div>"
      ],
      "text/plain": [
       "                           ID  \\\n",
       "0           Policy Start Date   \n",
       "1             Policy End Date   \n",
       "2                      Gender   \n",
       "3                         Age   \n",
       "4                 ProductName   \n",
       "5      First Transaction Date   \n",
       "6                      No_Pol   \n",
       "7                Car_Category   \n",
       "8          Subject_Car_Colour   \n",
       "9            Subject_Car_Make   \n",
       "10                   LGA_Name   \n",
       "11                      State   \n",
       "12  No_of_claims_3_mon_period   \n",
       "\n",
       "                           Unique ID for the customer  \n",
       "0                                 Date policy started  \n",
       "1                                   Date policy ended  \n",
       "2                              Gender of the customer  \n",
       "3                                 Age of the customer  \n",
       "4                            Name of Insurance policy  \n",
       "5                         First date payment was made  \n",
       "6                 Number of policies the customer has  \n",
       "7                                         Type of car  \n",
       "8                                          Car colour  \n",
       "9                                            Car make  \n",
       "10                    City where policy was purchased  \n",
       "11                   State where policy was purchased  \n",
       "12  Wether the customer claimed within a 3 month p...  "
      ]
     },
     "execution_count": 13,
     "metadata": {},
     "output_type": "execute_result"
    }
   ],
   "source": [
    "variable_def"
   ]
  },
  {
   "cell_type": "code",
   "execution_count": 14,
   "metadata": {},
   "outputs": [
    {
     "name": "stdout",
     "output_type": "stream",
     "text": [
      "Train shape: (12079, 14) \n",
      "Test shape: (5177, 13) \n",
      "samplesubmission shape: (5177, 2)\n"
     ]
    }
   ],
   "source": [
    "print('Train shape:',train.shape,'\\nTest shape:', test.shape, '\\nsamplesubmission shape:',ss.shape)"
   ]
  },
  {
   "cell_type": "markdown",
   "metadata": {},
   "source": [
    "# Since the ratio of categorical variables to numerical variable is high, consider combining both train and test for easy preproccessing "
   ]
  },
  {
   "cell_type": "code",
   "execution_count": 15,
   "metadata": {},
   "outputs": [
    {
     "name": "stdout",
     "output_type": "stream",
     "text": [
      "all_data size is : (17256, 14)\n"
     ]
    }
   ],
   "source": [
    "# join train and test together\n",
    "ntrain = train.shape[0]\n",
    "ntest = test.shape[0]\n",
    "\n",
    "all_data = pd.concat((train, test)).reset_index(drop=True)\n",
    "print(\"all_data size is : {}\".format(all_data.shape))"
   ]
  },
  {
   "cell_type": "code",
   "execution_count": 16,
   "metadata": {},
   "outputs": [
    {
     "data": {
      "text/html": [
       "<div>\n",
       "<style scoped>\n",
       "    .dataframe tbody tr th:only-of-type {\n",
       "        vertical-align: middle;\n",
       "    }\n",
       "\n",
       "    .dataframe tbody tr th {\n",
       "        vertical-align: top;\n",
       "    }\n",
       "\n",
       "    .dataframe thead th {\n",
       "        text-align: right;\n",
       "    }\n",
       "</style>\n",
       "<table border=\"1\" class=\"dataframe\">\n",
       "  <thead>\n",
       "    <tr style=\"text-align: right;\">\n",
       "      <th></th>\n",
       "      <th>ID</th>\n",
       "      <th>Policy Start Date</th>\n",
       "      <th>Policy End Date</th>\n",
       "      <th>Gender</th>\n",
       "      <th>Age</th>\n",
       "      <th>First Transaction Date</th>\n",
       "      <th>No_Pol</th>\n",
       "      <th>Car_Category</th>\n",
       "      <th>Subject_Car_Colour</th>\n",
       "      <th>Subject_Car_Make</th>\n",
       "      <th>LGA_Name</th>\n",
       "      <th>State</th>\n",
       "      <th>ProductName</th>\n",
       "      <th>target</th>\n",
       "    </tr>\n",
       "  </thead>\n",
       "  <tbody>\n",
       "    <tr>\n",
       "      <th>17251</th>\n",
       "      <td>ZYXX5AF</td>\n",
       "      <td>2010-07-18</td>\n",
       "      <td>2011-07-17</td>\n",
       "      <td>Male</td>\n",
       "      <td>48</td>\n",
       "      <td>2010-07-18</td>\n",
       "      <td>1</td>\n",
       "      <td>Saloon</td>\n",
       "      <td>NaN</td>\n",
       "      <td>Honda</td>\n",
       "      <td>NaN</td>\n",
       "      <td>NaN</td>\n",
       "      <td>CarSafe</td>\n",
       "      <td>NaN</td>\n",
       "    </tr>\n",
       "    <tr>\n",
       "      <th>17252</th>\n",
       "      <td>ZYYOZ5L</td>\n",
       "      <td>2010-12-04</td>\n",
       "      <td>2011-12-03</td>\n",
       "      <td>NaN</td>\n",
       "      <td>50</td>\n",
       "      <td>2010-12-04</td>\n",
       "      <td>1</td>\n",
       "      <td>NaN</td>\n",
       "      <td>NaN</td>\n",
       "      <td>NaN</td>\n",
       "      <td>Victoria Island</td>\n",
       "      <td>Lagos</td>\n",
       "      <td>Car Classic</td>\n",
       "      <td>NaN</td>\n",
       "    </tr>\n",
       "    <tr>\n",
       "      <th>17253</th>\n",
       "      <td>ZZ1GTKD</td>\n",
       "      <td>2010-09-24</td>\n",
       "      <td>2011-09-23</td>\n",
       "      <td>Male</td>\n",
       "      <td>1</td>\n",
       "      <td>2010-09-24</td>\n",
       "      <td>1</td>\n",
       "      <td>NaN</td>\n",
       "      <td>NaN</td>\n",
       "      <td>NaN</td>\n",
       "      <td>NaN</td>\n",
       "      <td>NaN</td>\n",
       "      <td>CarSafe</td>\n",
       "      <td>NaN</td>\n",
       "    </tr>\n",
       "    <tr>\n",
       "      <th>17254</th>\n",
       "      <td>ZZDXQSI</td>\n",
       "      <td>2010-07-17</td>\n",
       "      <td>2011-07-16</td>\n",
       "      <td>Female</td>\n",
       "      <td>52</td>\n",
       "      <td>2010-07-17</td>\n",
       "      <td>1</td>\n",
       "      <td>Saloon</td>\n",
       "      <td>Grey</td>\n",
       "      <td>TOYOTA</td>\n",
       "      <td>NaN</td>\n",
       "      <td>NaN</td>\n",
       "      <td>Car Classic</td>\n",
       "      <td>NaN</td>\n",
       "    </tr>\n",
       "    <tr>\n",
       "      <th>17255</th>\n",
       "      <td>ZZYTLV1</td>\n",
       "      <td>2010-07-17</td>\n",
       "      <td>2011-07-16</td>\n",
       "      <td>Male</td>\n",
       "      <td>68</td>\n",
       "      <td>2010-07-17</td>\n",
       "      <td>1</td>\n",
       "      <td>Saloon</td>\n",
       "      <td>NaN</td>\n",
       "      <td>Peugeot</td>\n",
       "      <td>NaN</td>\n",
       "      <td>NaN</td>\n",
       "      <td>CarSafe</td>\n",
       "      <td>NaN</td>\n",
       "    </tr>\n",
       "  </tbody>\n",
       "</table>\n",
       "</div>"
      ],
      "text/plain": [
       "            ID Policy Start Date Policy End Date  Gender  Age  \\\n",
       "17251  ZYXX5AF        2010-07-18      2011-07-17    Male   48   \n",
       "17252  ZYYOZ5L        2010-12-04      2011-12-03     NaN   50   \n",
       "17253  ZZ1GTKD        2010-09-24      2011-09-23    Male    1   \n",
       "17254  ZZDXQSI        2010-07-17      2011-07-16  Female   52   \n",
       "17255  ZZYTLV1        2010-07-17      2011-07-16    Male   68   \n",
       "\n",
       "      First Transaction Date  No_Pol Car_Category Subject_Car_Colour  \\\n",
       "17251             2010-07-18       1       Saloon                NaN   \n",
       "17252             2010-12-04       1          NaN                NaN   \n",
       "17253             2010-09-24       1          NaN                NaN   \n",
       "17254             2010-07-17       1       Saloon               Grey   \n",
       "17255             2010-07-17       1       Saloon                NaN   \n",
       "\n",
       "      Subject_Car_Make         LGA_Name  State  ProductName  target  \n",
       "17251            Honda              NaN    NaN      CarSafe     NaN  \n",
       "17252              NaN  Victoria Island  Lagos  Car Classic     NaN  \n",
       "17253              NaN              NaN    NaN      CarSafe     NaN  \n",
       "17254           TOYOTA              NaN    NaN  Car Classic     NaN  \n",
       "17255          Peugeot              NaN    NaN      CarSafe     NaN  "
      ]
     },
     "execution_count": 16,
     "metadata": {},
     "output_type": "execute_result"
    }
   ],
   "source": [
    "all_data.tail()"
   ]
  },
  {
   "cell_type": "code",
   "execution_count": 17,
   "metadata": {},
   "outputs": [
    {
     "data": {
      "text/plain": [
       "['ID',\n",
       " 'Gender',\n",
       " 'No_Pol',\n",
       " 'Car_Category',\n",
       " 'Subject_Car_Colour',\n",
       " 'Subject_Car_Make',\n",
       " 'LGA_Name',\n",
       " 'State',\n",
       " 'ProductName']"
      ]
     },
     "execution_count": 17,
     "metadata": {},
     "output_type": "execute_result"
    }
   ],
   "source": [
    "date_col = ['Policy Start Date','Policy End Date','First Transaction Date']\n",
    "num_col = ['Age']\n",
    "cat_col = [col for col in test.columns if col not in date_col+num_col]\n",
    "cat_col"
   ]
  },
  {
   "cell_type": "code",
   "execution_count": 18,
   "metadata": {},
   "outputs": [],
   "source": [
    "cat_col.remove('ID')"
   ]
  },
  {
   "cell_type": "markdown",
   "metadata": {},
   "source": [
    "The dataset is is skewed towards class 0, consider balancing the dataset "
   ]
  },
  {
   "cell_type": "code",
   "execution_count": 19,
   "metadata": {},
   "outputs": [
    {
     "name": "stdout",
     "output_type": "stream",
     "text": [
      "Are There Missing value in train? : True\n",
      "ID                         0.000000\n",
      "Policy Start Date          0.000000\n",
      "Policy End Date            0.000000\n",
      "Gender                     2.972100\n",
      "Age                        0.000000\n",
      "First Transaction Date     0.000000\n",
      "No_Pol                     0.000000\n",
      "Car_Category              30.946270\n",
      "Subject_Car_Colour        57.637222\n",
      "Subject_Car_Make          20.498386\n",
      "LGA_Name                  53.613710\n",
      "State                     53.713056\n",
      "ProductName                0.000000\n",
      "target                     0.000000\n",
      "dtype: float64\n"
     ]
    }
   ],
   "source": [
    "print(\"Are There Missing value in train? :\",train.isnull().any().any())\n",
    "print((train.isnull().sum()/train.shape[0])*100)"
   ]
  },
  {
   "cell_type": "code",
   "execution_count": 20,
   "metadata": {},
   "outputs": [
    {
     "name": "stdout",
     "output_type": "stream",
     "text": [
      "Are There Missing value in test? : True\n",
      "ID                         0.000000\n",
      "Policy Start Date          0.000000\n",
      "Policy End Date            0.000000\n",
      "Gender                     3.013328\n",
      "Age                        0.000000\n",
      "First Transaction Date     0.000000\n",
      "No_Pol                     0.000000\n",
      "Car_Category              31.639946\n",
      "Subject_Car_Colour        58.045200\n",
      "Subject_Car_Make          20.494495\n",
      "LGA_Name                  53.737686\n",
      "State                     53.853583\n",
      "ProductName                0.000000\n",
      "dtype: float64\n"
     ]
    }
   ],
   "source": [
    "print(\"Are There Missing value in test? :\",test.isnull().any().any())\n",
    "print((test.isnull().sum()/test.shape[0])*100)"
   ]
  },
  {
   "cell_type": "markdown",
   "metadata": {},
   "source": [
    "Remember to handle the missing values "
   ]
  },
  {
   "cell_type": "code",
   "execution_count": 21,
   "metadata": {},
   "outputs": [
    {
     "data": {
      "image/png": "[encoded data removed]",
      "text/plain": [
       "<Figure size 576x576 with 2 Axes>"
      ]
     },
     "metadata": {
      "needs_background": "light"
     },
     "output_type": "display_data"
    }
   ],
   "source": [
    "f,ax=plt.subplots(figsize=(8,8))\n",
    "sns.heatmap(all_data.corr(),annot=True,linewidth=.5,fmt='.1f',ax=ax)\n",
    "plt.show()"
   ]
  },
  {
   "cell_type": "markdown",
   "metadata": {},
   "source": [
    "### Correlation might not be a best measure for this dataset since there are more categorical features"
   ]
  },
  {
   "cell_type": "code",
   "execution_count": 22,
   "metadata": {},
   "outputs": [
    {
     "data": {
      "text/html": [
       "<div>\n",
       "<style scoped>\n",
       "    .dataframe tbody tr th:only-of-type {\n",
       "        vertical-align: middle;\n",
       "    }\n",
       "\n",
       "    .dataframe tbody tr th {\n",
       "        vertical-align: top;\n",
       "    }\n",
       "\n",
       "    .dataframe thead th {\n",
       "        text-align: right;\n",
       "    }\n",
       "</style>\n",
       "<table border=\"1\" class=\"dataframe\">\n",
       "  <thead>\n",
       "    <tr style=\"text-align: right;\">\n",
       "      <th></th>\n",
       "      <th>ID</th>\n",
       "      <th>Policy Start Date</th>\n",
       "      <th>Policy End Date</th>\n",
       "      <th>Gender</th>\n",
       "      <th>Age</th>\n",
       "      <th>First Transaction Date</th>\n",
       "      <th>No_Pol</th>\n",
       "      <th>Car_Category</th>\n",
       "      <th>Subject_Car_Colour</th>\n",
       "      <th>Subject_Car_Make</th>\n",
       "      <th>LGA_Name</th>\n",
       "      <th>State</th>\n",
       "      <th>ProductName</th>\n",
       "      <th>target</th>\n",
       "    </tr>\n",
       "  </thead>\n",
       "  <tbody>\n",
       "    <tr>\n",
       "      <th>0</th>\n",
       "      <td>0040R73</td>\n",
       "      <td>2010-05-14</td>\n",
       "      <td>2011-05-13</td>\n",
       "      <td>Male</td>\n",
       "      <td>30</td>\n",
       "      <td>2010-05-14</td>\n",
       "      <td>1</td>\n",
       "      <td>Saloon</td>\n",
       "      <td>Black</td>\n",
       "      <td>TOYOTA</td>\n",
       "      <td>NaN</td>\n",
       "      <td>NaN</td>\n",
       "      <td>Car Classic</td>\n",
       "      <td>0.0</td>\n",
       "    </tr>\n",
       "    <tr>\n",
       "      <th>1</th>\n",
       "      <td>0046BNK</td>\n",
       "      <td>2010-11-29</td>\n",
       "      <td>2011-11-28</td>\n",
       "      <td>Female</td>\n",
       "      <td>79</td>\n",
       "      <td>2010-11-29</td>\n",
       "      <td>1</td>\n",
       "      <td>JEEP</td>\n",
       "      <td>Grey</td>\n",
       "      <td>TOYOTA</td>\n",
       "      <td>NaN</td>\n",
       "      <td>NaN</td>\n",
       "      <td>Car Classic</td>\n",
       "      <td>1.0</td>\n",
       "    </tr>\n",
       "    <tr>\n",
       "      <th>2</th>\n",
       "      <td>005QMC3</td>\n",
       "      <td>2010-03-21</td>\n",
       "      <td>2011-03-20</td>\n",
       "      <td>Male</td>\n",
       "      <td>43</td>\n",
       "      <td>2010-03-21</td>\n",
       "      <td>1</td>\n",
       "      <td>Saloon</td>\n",
       "      <td>Red</td>\n",
       "      <td>TOYOTA</td>\n",
       "      <td>NaN</td>\n",
       "      <td>NaN</td>\n",
       "      <td>Car Classic</td>\n",
       "      <td>0.0</td>\n",
       "    </tr>\n",
       "    <tr>\n",
       "      <th>3</th>\n",
       "      <td>0079OHW</td>\n",
       "      <td>2010-08-21</td>\n",
       "      <td>2011-08-20</td>\n",
       "      <td>Male</td>\n",
       "      <td>2</td>\n",
       "      <td>2010-08-21</td>\n",
       "      <td>1</td>\n",
       "      <td>NaN</td>\n",
       "      <td>NaN</td>\n",
       "      <td>NaN</td>\n",
       "      <td>NaN</td>\n",
       "      <td>NaN</td>\n",
       "      <td>CarSafe</td>\n",
       "      <td>0.0</td>\n",
       "    </tr>\n",
       "    <tr>\n",
       "      <th>4</th>\n",
       "      <td>00BRP63</td>\n",
       "      <td>2010-08-29</td>\n",
       "      <td>2010-12-31</td>\n",
       "      <td>Entity</td>\n",
       "      <td>20</td>\n",
       "      <td>2010-08-29</td>\n",
       "      <td>3</td>\n",
       "      <td>NaN</td>\n",
       "      <td>NaN</td>\n",
       "      <td>NaN</td>\n",
       "      <td>Lagos</td>\n",
       "      <td>Lagos</td>\n",
       "      <td>Muuve</td>\n",
       "      <td>1.0</td>\n",
       "    </tr>\n",
       "  </tbody>\n",
       "</table>\n",
       "</div>"
      ],
      "text/plain": [
       "        ID Policy Start Date Policy End Date  Gender  Age  \\\n",
       "0  0040R73        2010-05-14      2011-05-13    Male   30   \n",
       "1  0046BNK        2010-11-29      2011-11-28  Female   79   \n",
       "2  005QMC3        2010-03-21      2011-03-20    Male   43   \n",
       "3  0079OHW        2010-08-21      2011-08-20    Male    2   \n",
       "4  00BRP63        2010-08-29      2010-12-31  Entity   20   \n",
       "\n",
       "  First Transaction Date  No_Pol Car_Category Subject_Car_Colour  \\\n",
       "0             2010-05-14       1       Saloon              Black   \n",
       "1             2010-11-29       1         JEEP               Grey   \n",
       "2             2010-03-21       1       Saloon                Red   \n",
       "3             2010-08-21       1          NaN                NaN   \n",
       "4             2010-08-29       3          NaN                NaN   \n",
       "\n",
       "  Subject_Car_Make LGA_Name  State  ProductName  target  \n",
       "0           TOYOTA      NaN    NaN  Car Classic     0.0  \n",
       "1           TOYOTA      NaN    NaN  Car Classic     1.0  \n",
       "2           TOYOTA      NaN    NaN  Car Classic     0.0  \n",
       "3              NaN      NaN    NaN      CarSafe     0.0  \n",
       "4              NaN    Lagos  Lagos        Muuve     1.0  "
      ]
     },
     "execution_count": 22,
     "metadata": {},
     "output_type": "execute_result"
    }
   ],
   "source": [
    "all_data.head()"
   ]
  },
  {
   "cell_type": "code",
   "execution_count": 23,
   "metadata": {},
   "outputs": [
    {
     "data": {
      "text/plain": [
       "array(['Male', 'Female', 'Entity', 'Joint Gender', nan, 'NO GENDER',\n",
       "       'NOT STATED', 'SEX'], dtype=object)"
      ]
     },
     "execution_count": 23,
     "metadata": {},
     "output_type": "execute_result"
    }
   ],
   "source": [
    "all_data.Gender.unique()"
   ]
  },
  {
   "cell_type": "markdown",
   "metadata": {},
   "source": [
    "# Basic Data preprocessing "
   ]
  },
  {
   "cell_type": "markdown",
   "metadata": {},
   "source": [
    "### fill mising value"
   ]
  },
  {
   "cell_type": "code",
   "execution_count": 24,
   "metadata": {},
   "outputs": [],
   "source": [
    "miss = ['Car_Category', 'Subject_Car_Make','Subject_Car_Colour' ,'LGA_Name', 'State', 'Gender']\n",
    "\n",
    "for column in miss:\n",
    "    all_data[column] = all_data[column].fillna('Missing')"
   ]
  },
  {
   "cell_type": "code",
   "execution_count": 25,
   "metadata": {},
   "outputs": [
    {
     "data": {
      "text/html": [
       "<div>\n",
       "<style scoped>\n",
       "    .dataframe tbody tr th:only-of-type {\n",
       "        vertical-align: middle;\n",
       "    }\n",
       "\n",
       "    .dataframe tbody tr th {\n",
       "        vertical-align: top;\n",
       "    }\n",
       "\n",
       "    .dataframe thead th {\n",
       "        text-align: right;\n",
       "    }\n",
       "</style>\n",
       "<table border=\"1\" class=\"dataframe\">\n",
       "  <thead>\n",
       "    <tr style=\"text-align: right;\">\n",
       "      <th></th>\n",
       "      <th>ID</th>\n",
       "      <th>Policy Start Date</th>\n",
       "      <th>Policy End Date</th>\n",
       "      <th>Gender</th>\n",
       "      <th>Age</th>\n",
       "      <th>First Transaction Date</th>\n",
       "      <th>No_Pol</th>\n",
       "      <th>Car_Category</th>\n",
       "      <th>Subject_Car_Colour</th>\n",
       "      <th>Subject_Car_Make</th>\n",
       "      <th>LGA_Name</th>\n",
       "      <th>State</th>\n",
       "      <th>ProductName</th>\n",
       "      <th>target</th>\n",
       "    </tr>\n",
       "  </thead>\n",
       "  <tbody>\n",
       "    <tr>\n",
       "      <th>0</th>\n",
       "      <td>0040R73</td>\n",
       "      <td>2010-05-14</td>\n",
       "      <td>2011-05-13</td>\n",
       "      <td>Male</td>\n",
       "      <td>30</td>\n",
       "      <td>2010-05-14</td>\n",
       "      <td>1</td>\n",
       "      <td>Saloon</td>\n",
       "      <td>Black</td>\n",
       "      <td>TOYOTA</td>\n",
       "      <td>Missing</td>\n",
       "      <td>Missing</td>\n",
       "      <td>Car Classic</td>\n",
       "      <td>0.0</td>\n",
       "    </tr>\n",
       "    <tr>\n",
       "      <th>1</th>\n",
       "      <td>0046BNK</td>\n",
       "      <td>2010-11-29</td>\n",
       "      <td>2011-11-28</td>\n",
       "      <td>Female</td>\n",
       "      <td>79</td>\n",
       "      <td>2010-11-29</td>\n",
       "      <td>1</td>\n",
       "      <td>JEEP</td>\n",
       "      <td>Grey</td>\n",
       "      <td>TOYOTA</td>\n",
       "      <td>Missing</td>\n",
       "      <td>Missing</td>\n",
       "      <td>Car Classic</td>\n",
       "      <td>1.0</td>\n",
       "    </tr>\n",
       "    <tr>\n",
       "      <th>2</th>\n",
       "      <td>005QMC3</td>\n",
       "      <td>2010-03-21</td>\n",
       "      <td>2011-03-20</td>\n",
       "      <td>Male</td>\n",
       "      <td>43</td>\n",
       "      <td>2010-03-21</td>\n",
       "      <td>1</td>\n",
       "      <td>Saloon</td>\n",
       "      <td>Red</td>\n",
       "      <td>TOYOTA</td>\n",
       "      <td>Missing</td>\n",
       "      <td>Missing</td>\n",
       "      <td>Car Classic</td>\n",
       "      <td>0.0</td>\n",
       "    </tr>\n",
       "    <tr>\n",
       "      <th>3</th>\n",
       "      <td>0079OHW</td>\n",
       "      <td>2010-08-21</td>\n",
       "      <td>2011-08-20</td>\n",
       "      <td>Male</td>\n",
       "      <td>2</td>\n",
       "      <td>2010-08-21</td>\n",
       "      <td>1</td>\n",
       "      <td>Missing</td>\n",
       "      <td>Missing</td>\n",
       "      <td>Missing</td>\n",
       "      <td>Missing</td>\n",
       "      <td>Missing</td>\n",
       "      <td>CarSafe</td>\n",
       "      <td>0.0</td>\n",
       "    </tr>\n",
       "    <tr>\n",
       "      <th>4</th>\n",
       "      <td>00BRP63</td>\n",
       "      <td>2010-08-29</td>\n",
       "      <td>2010-12-31</td>\n",
       "      <td>Entity</td>\n",
       "      <td>20</td>\n",
       "      <td>2010-08-29</td>\n",
       "      <td>3</td>\n",
       "      <td>Missing</td>\n",
       "      <td>Missing</td>\n",
       "      <td>Missing</td>\n",
       "      <td>Lagos</td>\n",
       "      <td>Lagos</td>\n",
       "      <td>Muuve</td>\n",
       "      <td>1.0</td>\n",
       "    </tr>\n",
       "  </tbody>\n",
       "</table>\n",
       "</div>"
      ],
      "text/plain": [
       "        ID Policy Start Date Policy End Date  Gender  Age  \\\n",
       "0  0040R73        2010-05-14      2011-05-13    Male   30   \n",
       "1  0046BNK        2010-11-29      2011-11-28  Female   79   \n",
       "2  005QMC3        2010-03-21      2011-03-20    Male   43   \n",
       "3  0079OHW        2010-08-21      2011-08-20    Male    2   \n",
       "4  00BRP63        2010-08-29      2010-12-31  Entity   20   \n",
       "\n",
       "  First Transaction Date  No_Pol Car_Category Subject_Car_Colour  \\\n",
       "0             2010-05-14       1       Saloon              Black   \n",
       "1             2010-11-29       1         JEEP               Grey   \n",
       "2             2010-03-21       1       Saloon                Red   \n",
       "3             2010-08-21       1      Missing            Missing   \n",
       "4             2010-08-29       3      Missing            Missing   \n",
       "\n",
       "  Subject_Car_Make LGA_Name    State  ProductName  target  \n",
       "0           TOYOTA  Missing  Missing  Car Classic     0.0  \n",
       "1           TOYOTA  Missing  Missing  Car Classic     1.0  \n",
       "2           TOYOTA  Missing  Missing  Car Classic     0.0  \n",
       "3          Missing  Missing  Missing      CarSafe     0.0  \n",
       "4          Missing    Lagos    Lagos        Muuve     1.0  "
      ]
     },
     "execution_count": 25,
     "metadata": {},
     "output_type": "execute_result"
    }
   ],
   "source": [
    "all_data = all_data.fillna(9999)\n",
    "all_data.head()"
   ]
  },
  {
   "cell_type": "code",
   "execution_count": 26,
   "metadata": {},
   "outputs": [
    {
     "name": "stdout",
     "output_type": "stream",
     "text": [
      "Are There still Missing value in data? : False\n",
      "ID                        0.0\n",
      "Policy Start Date         0.0\n",
      "Policy End Date           0.0\n",
      "Gender                    0.0\n",
      "Age                       0.0\n",
      "First Transaction Date    0.0\n",
      "No_Pol                    0.0\n",
      "Car_Category              0.0\n",
      "Subject_Car_Colour        0.0\n",
      "Subject_Car_Make          0.0\n",
      "LGA_Name                  0.0\n",
      "State                     0.0\n",
      "ProductName               0.0\n",
      "target                    0.0\n",
      "dtype: float64\n"
     ]
    }
   ],
   "source": [
    "print(\"Are There still Missing value in data? :\",all_data.isnull().any().any())\n",
    "print((all_data.isnull().sum()/all_data.shape[0])*100)"
   ]
  },
  {
   "cell_type": "markdown",
   "metadata": {},
   "source": [
    "### date features"
   ]
  },
  {
   "cell_type": "code",
   "execution_count": 27,
   "metadata": {},
   "outputs": [
    {
     "data": {
      "text/plain": [
       "['Policy Start Date', 'Policy End Date', 'First Transaction Date']"
      ]
     },
     "execution_count": 27,
     "metadata": {},
     "output_type": "execute_result"
    }
   ],
   "source": [
    "date_col"
   ]
  },
  {
   "cell_type": "code",
   "execution_count": 28,
   "metadata": {},
   "outputs": [],
   "source": [
    "for feat in date_col:\n",
    "    all_data[feat] = pd.to_datetime(all_data[feat])"
   ]
  },
  {
   "cell_type": "code",
   "execution_count": 29,
   "metadata": {},
   "outputs": [
    {
     "name": "stdout",
     "output_type": "stream",
     "text": [
      "<class 'pandas.core.frame.DataFrame'>\n",
      "RangeIndex: 17256 entries, 0 to 17255\n",
      "Data columns (total 14 columns):\n",
      " #   Column                  Non-Null Count  Dtype         \n",
      "---  ------                  --------------  -----         \n",
      " 0   ID                      17256 non-null  object        \n",
      " 1   Policy Start Date       17256 non-null  datetime64[ns]\n",
      " 2   Policy End Date         17256 non-null  datetime64[ns]\n",
      " 3   Gender                  17256 non-null  object        \n",
      " 4   Age                     17256 non-null  int64         \n",
      " 5   First Transaction Date  17256 non-null  datetime64[ns]\n",
      " 6   No_Pol                  17256 non-null  int64         \n",
      " 7   Car_Category            17256 non-null  object        \n",
      " 8   Subject_Car_Colour      17256 non-null  object        \n",
      " 9   Subject_Car_Make        17256 non-null  object        \n",
      " 10  LGA_Name                17256 non-null  object        \n",
      " 11  State                   17256 non-null  object        \n",
      " 12  ProductName             17256 non-null  object        \n",
      " 13  target                  17256 non-null  float64       \n",
      "dtypes: datetime64[ns](3), float64(1), int64(2), object(8)\n",
      "memory usage: 1.8+ MB\n"
     ]
    }
   ],
   "source": [
    "all_data.info()"
   ]
  },
  {
   "cell_type": "code",
   "execution_count": 30,
   "metadata": {},
   "outputs": [
    {
     "data": {
      "text/html": [
       "<div>\n",
       "<style scoped>\n",
       "    .dataframe tbody tr th:only-of-type {\n",
       "        vertical-align: middle;\n",
       "    }\n",
       "\n",
       "    .dataframe tbody tr th {\n",
       "        vertical-align: top;\n",
       "    }\n",
       "\n",
       "    .dataframe thead th {\n",
       "        text-align: right;\n",
       "    }\n",
       "</style>\n",
       "<table border=\"1\" class=\"dataframe\">\n",
       "  <thead>\n",
       "    <tr style=\"text-align: right;\">\n",
       "      <th></th>\n",
       "      <th>ID</th>\n",
       "      <th>Policy Start Date</th>\n",
       "      <th>Policy End Date</th>\n",
       "      <th>Gender</th>\n",
       "      <th>Age</th>\n",
       "      <th>First Transaction Date</th>\n",
       "      <th>No_Pol</th>\n",
       "      <th>Car_Category</th>\n",
       "      <th>Subject_Car_Colour</th>\n",
       "      <th>Subject_Car_Make</th>\n",
       "      <th>LGA_Name</th>\n",
       "      <th>State</th>\n",
       "      <th>ProductName</th>\n",
       "      <th>target</th>\n",
       "    </tr>\n",
       "  </thead>\n",
       "  <tbody>\n",
       "    <tr>\n",
       "      <th>0</th>\n",
       "      <td>0040R73</td>\n",
       "      <td>2010-05-14</td>\n",
       "      <td>2011-05-13</td>\n",
       "      <td>Male</td>\n",
       "      <td>30</td>\n",
       "      <td>2010-05-14</td>\n",
       "      <td>1</td>\n",
       "      <td>Saloon</td>\n",
       "      <td>Black</td>\n",
       "      <td>TOYOTA</td>\n",
       "      <td>Missing</td>\n",
       "      <td>Missing</td>\n",
       "      <td>Car Classic</td>\n",
       "      <td>0.0</td>\n",
       "    </tr>\n",
       "    <tr>\n",
       "      <th>1</th>\n",
       "      <td>0046BNK</td>\n",
       "      <td>2010-11-29</td>\n",
       "      <td>2011-11-28</td>\n",
       "      <td>Female</td>\n",
       "      <td>79</td>\n",
       "      <td>2010-11-29</td>\n",
       "      <td>1</td>\n",
       "      <td>JEEP</td>\n",
       "      <td>Grey</td>\n",
       "      <td>TOYOTA</td>\n",
       "      <td>Missing</td>\n",
       "      <td>Missing</td>\n",
       "      <td>Car Classic</td>\n",
       "      <td>1.0</td>\n",
       "    </tr>\n",
       "    <tr>\n",
       "      <th>2</th>\n",
       "      <td>005QMC3</td>\n",
       "      <td>2010-03-21</td>\n",
       "      <td>2011-03-20</td>\n",
       "      <td>Male</td>\n",
       "      <td>43</td>\n",
       "      <td>2010-03-21</td>\n",
       "      <td>1</td>\n",
       "      <td>Saloon</td>\n",
       "      <td>Red</td>\n",
       "      <td>TOYOTA</td>\n",
       "      <td>Missing</td>\n",
       "      <td>Missing</td>\n",
       "      <td>Car Classic</td>\n",
       "      <td>0.0</td>\n",
       "    </tr>\n",
       "    <tr>\n",
       "      <th>3</th>\n",
       "      <td>0079OHW</td>\n",
       "      <td>2010-08-21</td>\n",
       "      <td>2011-08-20</td>\n",
       "      <td>Male</td>\n",
       "      <td>2</td>\n",
       "      <td>2010-08-21</td>\n",
       "      <td>1</td>\n",
       "      <td>Missing</td>\n",
       "      <td>Missing</td>\n",
       "      <td>Missing</td>\n",
       "      <td>Missing</td>\n",
       "      <td>Missing</td>\n",
       "      <td>CarSafe</td>\n",
       "      <td>0.0</td>\n",
       "    </tr>\n",
       "    <tr>\n",
       "      <th>4</th>\n",
       "      <td>00BRP63</td>\n",
       "      <td>2010-08-29</td>\n",
       "      <td>2010-12-31</td>\n",
       "      <td>Entity</td>\n",
       "      <td>20</td>\n",
       "      <td>2010-08-29</td>\n",
       "      <td>3</td>\n",
       "      <td>Missing</td>\n",
       "      <td>Missing</td>\n",
       "      <td>Missing</td>\n",
       "      <td>Lagos</td>\n",
       "      <td>Lagos</td>\n",
       "      <td>Muuve</td>\n",
       "      <td>1.0</td>\n",
       "    </tr>\n",
       "  </tbody>\n",
       "</table>\n",
       "</div>"
      ],
      "text/plain": [
       "        ID Policy Start Date Policy End Date  Gender  Age  \\\n",
       "0  0040R73        2010-05-14      2011-05-13    Male   30   \n",
       "1  0046BNK        2010-11-29      2011-11-28  Female   79   \n",
       "2  005QMC3        2010-03-21      2011-03-20    Male   43   \n",
       "3  0079OHW        2010-08-21      2011-08-20    Male    2   \n",
       "4  00BRP63        2010-08-29      2010-12-31  Entity   20   \n",
       "\n",
       "  First Transaction Date  No_Pol Car_Category Subject_Car_Colour  \\\n",
       "0             2010-05-14       1       Saloon              Black   \n",
       "1             2010-11-29       1         JEEP               Grey   \n",
       "2             2010-03-21       1       Saloon                Red   \n",
       "3             2010-08-21       1      Missing            Missing   \n",
       "4             2010-08-29       3      Missing            Missing   \n",
       "\n",
       "  Subject_Car_Make LGA_Name    State  ProductName  target  \n",
       "0           TOYOTA  Missing  Missing  Car Classic     0.0  \n",
       "1           TOYOTA  Missing  Missing  Car Classic     1.0  \n",
       "2           TOYOTA  Missing  Missing  Car Classic     0.0  \n",
       "3          Missing  Missing  Missing      CarSafe     0.0  \n",
       "4          Missing    Lagos    Lagos        Muuve     1.0  "
      ]
     },
     "execution_count": 30,
     "metadata": {},
     "output_type": "execute_result"
    }
   ],
   "source": [
    "all_data.head()"
   ]
  },
  {
   "cell_type": "code",
   "execution_count": 31,
   "metadata": {},
   "outputs": [],
   "source": [
    "def extract_date_info(df,cols,):\n",
    "    for feat in cols:\n",
    "        df[feat +'_year'] = df[feat].dt.year\n",
    "        df[feat +'_day'] = df[feat].dt.day\n",
    "        df[feat +'_month'] = df[feat].dt.month\n",
    "        df[feat +'_quarter'] = df[feat].dt.quarter\n",
    "    df.drop(columns=date_col,axis=1,inplace=True)"
   ]
  },
  {
   "cell_type": "code",
   "execution_count": 32,
   "metadata": {},
   "outputs": [],
   "source": [
    "all_data['Policy_duration'] = (all_data['Policy End Date'] - all_data['Policy Start Date']).dt.days\n",
    "\n",
    "all_data['Transaction_from_Policy_Start'] = (all_data['Policy End Date'] - all_data['First Transaction Date']).dt.days"
   ]
  },
  {
   "cell_type": "code",
   "execution_count": 33,
   "metadata": {},
   "outputs": [],
   "source": [
    "extract_date_info(all_data,date_col)"
   ]
  },
  {
   "cell_type": "code",
   "execution_count": 34,
   "metadata": {},
   "outputs": [
    {
     "data": {
      "text/html": [
       "<div>\n",
       "<style scoped>\n",
       "    .dataframe tbody tr th:only-of-type {\n",
       "        vertical-align: middle;\n",
       "    }\n",
       "\n",
       "    .dataframe tbody tr th {\n",
       "        vertical-align: top;\n",
       "    }\n",
       "\n",
       "    .dataframe thead th {\n",
       "        text-align: right;\n",
       "    }\n",
       "</style>\n",
       "<table border=\"1\" class=\"dataframe\">\n",
       "  <thead>\n",
       "    <tr style=\"text-align: right;\">\n",
       "      <th></th>\n",
       "      <th>ID</th>\n",
       "      <th>Gender</th>\n",
       "      <th>Age</th>\n",
       "      <th>No_Pol</th>\n",
       "      <th>Car_Category</th>\n",
       "      <th>Subject_Car_Colour</th>\n",
       "      <th>Subject_Car_Make</th>\n",
       "      <th>LGA_Name</th>\n",
       "      <th>State</th>\n",
       "      <th>ProductName</th>\n",
       "      <th>target</th>\n",
       "      <th>Policy_duration</th>\n",
       "      <th>Transaction_from_Policy_Start</th>\n",
       "      <th>Policy Start Date_year</th>\n",
       "      <th>Policy Start Date_day</th>\n",
       "      <th>Policy Start Date_month</th>\n",
       "      <th>Policy Start Date_quarter</th>\n",
       "      <th>Policy End Date_year</th>\n",
       "      <th>Policy End Date_day</th>\n",
       "      <th>Policy End Date_month</th>\n",
       "      <th>Policy End Date_quarter</th>\n",
       "      <th>First Transaction Date_year</th>\n",
       "      <th>First Transaction Date_day</th>\n",
       "      <th>First Transaction Date_month</th>\n",
       "      <th>First Transaction Date_quarter</th>\n",
       "    </tr>\n",
       "  </thead>\n",
       "  <tbody>\n",
       "    <tr>\n",
       "      <th>0</th>\n",
       "      <td>0040R73</td>\n",
       "      <td>Male</td>\n",
       "      <td>30</td>\n",
       "      <td>1</td>\n",
       "      <td>Saloon</td>\n",
       "      <td>Black</td>\n",
       "      <td>TOYOTA</td>\n",
       "      <td>Missing</td>\n",
       "      <td>Missing</td>\n",
       "      <td>Car Classic</td>\n",
       "      <td>0.0</td>\n",
       "      <td>364</td>\n",
       "      <td>364</td>\n",
       "      <td>2010</td>\n",
       "      <td>14</td>\n",
       "      <td>5</td>\n",
       "      <td>2</td>\n",
       "      <td>2011</td>\n",
       "      <td>13</td>\n",
       "      <td>5</td>\n",
       "      <td>2</td>\n",
       "      <td>2010</td>\n",
       "      <td>14</td>\n",
       "      <td>5</td>\n",
       "      <td>2</td>\n",
       "    </tr>\n",
       "    <tr>\n",
       "      <th>1</th>\n",
       "      <td>0046BNK</td>\n",
       "      <td>Female</td>\n",
       "      <td>79</td>\n",
       "      <td>1</td>\n",
       "      <td>JEEP</td>\n",
       "      <td>Grey</td>\n",
       "      <td>TOYOTA</td>\n",
       "      <td>Missing</td>\n",
       "      <td>Missing</td>\n",
       "      <td>Car Classic</td>\n",
       "      <td>1.0</td>\n",
       "      <td>364</td>\n",
       "      <td>364</td>\n",
       "      <td>2010</td>\n",
       "      <td>29</td>\n",
       "      <td>11</td>\n",
       "      <td>4</td>\n",
       "      <td>2011</td>\n",
       "      <td>28</td>\n",
       "      <td>11</td>\n",
       "      <td>4</td>\n",
       "      <td>2010</td>\n",
       "      <td>29</td>\n",
       "      <td>11</td>\n",
       "      <td>4</td>\n",
       "    </tr>\n",
       "    <tr>\n",
       "      <th>2</th>\n",
       "      <td>005QMC3</td>\n",
       "      <td>Male</td>\n",
       "      <td>43</td>\n",
       "      <td>1</td>\n",
       "      <td>Saloon</td>\n",
       "      <td>Red</td>\n",
       "      <td>TOYOTA</td>\n",
       "      <td>Missing</td>\n",
       "      <td>Missing</td>\n",
       "      <td>Car Classic</td>\n",
       "      <td>0.0</td>\n",
       "      <td>364</td>\n",
       "      <td>364</td>\n",
       "      <td>2010</td>\n",
       "      <td>21</td>\n",
       "      <td>3</td>\n",
       "      <td>1</td>\n",
       "      <td>2011</td>\n",
       "      <td>20</td>\n",
       "      <td>3</td>\n",
       "      <td>1</td>\n",
       "      <td>2010</td>\n",
       "      <td>21</td>\n",
       "      <td>3</td>\n",
       "      <td>1</td>\n",
       "    </tr>\n",
       "    <tr>\n",
       "      <th>3</th>\n",
       "      <td>0079OHW</td>\n",
       "      <td>Male</td>\n",
       "      <td>2</td>\n",
       "      <td>1</td>\n",
       "      <td>Missing</td>\n",
       "      <td>Missing</td>\n",
       "      <td>Missing</td>\n",
       "      <td>Missing</td>\n",
       "      <td>Missing</td>\n",
       "      <td>CarSafe</td>\n",
       "      <td>0.0</td>\n",
       "      <td>364</td>\n",
       "      <td>364</td>\n",
       "      <td>2010</td>\n",
       "      <td>21</td>\n",
       "      <td>8</td>\n",
       "      <td>3</td>\n",
       "      <td>2011</td>\n",
       "      <td>20</td>\n",
       "      <td>8</td>\n",
       "      <td>3</td>\n",
       "      <td>2010</td>\n",
       "      <td>21</td>\n",
       "      <td>8</td>\n",
       "      <td>3</td>\n",
       "    </tr>\n",
       "    <tr>\n",
       "      <th>4</th>\n",
       "      <td>00BRP63</td>\n",
       "      <td>Entity</td>\n",
       "      <td>20</td>\n",
       "      <td>3</td>\n",
       "      <td>Missing</td>\n",
       "      <td>Missing</td>\n",
       "      <td>Missing</td>\n",
       "      <td>Lagos</td>\n",
       "      <td>Lagos</td>\n",
       "      <td>Muuve</td>\n",
       "      <td>1.0</td>\n",
       "      <td>124</td>\n",
       "      <td>124</td>\n",
       "      <td>2010</td>\n",
       "      <td>29</td>\n",
       "      <td>8</td>\n",
       "      <td>3</td>\n",
       "      <td>2010</td>\n",
       "      <td>31</td>\n",
       "      <td>12</td>\n",
       "      <td>4</td>\n",
       "      <td>2010</td>\n",
       "      <td>29</td>\n",
       "      <td>8</td>\n",
       "      <td>3</td>\n",
       "    </tr>\n",
       "  </tbody>\n",
       "</table>\n",
       "</div>"
      ],
      "text/plain": [
       "        ID  Gender  Age  No_Pol Car_Category Subject_Car_Colour  \\\n",
       "0  0040R73    Male   30       1       Saloon              Black   \n",
       "1  0046BNK  Female   79       1         JEEP               Grey   \n",
       "2  005QMC3    Male   43       1       Saloon                Red   \n",
       "3  0079OHW    Male    2       1      Missing            Missing   \n",
       "4  00BRP63  Entity   20       3      Missing            Missing   \n",
       "\n",
       "  Subject_Car_Make LGA_Name    State  ProductName  target  Policy_duration  \\\n",
       "0           TOYOTA  Missing  Missing  Car Classic     0.0              364   \n",
       "1           TOYOTA  Missing  Missing  Car Classic     1.0              364   \n",
       "2           TOYOTA  Missing  Missing  Car Classic     0.0              364   \n",
       "3          Missing  Missing  Missing      CarSafe     0.0              364   \n",
       "4          Missing    Lagos    Lagos        Muuve     1.0              124   \n",
       "\n",
       "   Transaction_from_Policy_Start  Policy Start Date_year  \\\n",
       "0                            364                    2010   \n",
       "1                            364                    2010   \n",
       "2                            364                    2010   \n",
       "3                            364                    2010   \n",
       "4                            124                    2010   \n",
       "\n",
       "   Policy Start Date_day  Policy Start Date_month  Policy Start Date_quarter  \\\n",
       "0                     14                        5                          2   \n",
       "1                     29                       11                          4   \n",
       "2                     21                        3                          1   \n",
       "3                     21                        8                          3   \n",
       "4                     29                        8                          3   \n",
       "\n",
       "   Policy End Date_year  Policy End Date_day  Policy End Date_month  \\\n",
       "0                  2011                   13                      5   \n",
       "1                  2011                   28                     11   \n",
       "2                  2011                   20                      3   \n",
       "3                  2011                   20                      8   \n",
       "4                  2010                   31                     12   \n",
       "\n",
       "   Policy End Date_quarter  First Transaction Date_year  \\\n",
       "0                        2                         2010   \n",
       "1                        4                         2010   \n",
       "2                        1                         2010   \n",
       "3                        3                         2010   \n",
       "4                        4                         2010   \n",
       "\n",
       "   First Transaction Date_day  First Transaction Date_month  \\\n",
       "0                          14                             5   \n",
       "1                          29                            11   \n",
       "2                          21                             3   \n",
       "3                          21                             8   \n",
       "4                          29                             8   \n",
       "\n",
       "   First Transaction Date_quarter  \n",
       "0                               2  \n",
       "1                               4  \n",
       "2                               1  \n",
       "3                               3  \n",
       "4                               3  "
      ]
     },
     "execution_count": 34,
     "metadata": {},
     "output_type": "execute_result"
    }
   ],
   "source": [
    "pd.set_option('display.max_columns', None)\n",
    "all_data.head()"
   ]
  },
  {
   "cell_type": "code",
   "execution_count": 35,
   "metadata": {},
   "outputs": [
    {
     "data": {
      "text/plain": [
       "array(['Male', 'Female', 'Entity', 'Joint Gender', 'Missing', 'NO GENDER',\n",
       "       'NOT STATED', 'SEX'], dtype=object)"
      ]
     },
     "execution_count": 35,
     "metadata": {},
     "output_type": "execute_result"
    }
   ],
   "source": [
    "all_data.Gender.unique()"
   ]
  },
  {
   "cell_type": "code",
   "execution_count": 36,
   "metadata": {},
   "outputs": [],
   "source": [
    "mapper = {\"Male\":\"M\",\"Female\":'F','Entity':'O','Joint Gender':'O',9999:'O','NO GENDER':'O','NOT STATED':'O','SEX':'O' }"
   ]
  },
  {
   "cell_type": "code",
   "execution_count": 37,
   "metadata": {},
   "outputs": [],
   "source": [
    "all_data.Gender = all_data.Gender.map(mapper)"
   ]
  },
  {
   "cell_type": "code",
   "execution_count": 38,
   "metadata": {},
   "outputs": [
    {
     "data": {
      "text/plain": [
       "array(['M', 'F', 'O', 'Missing'], dtype=object)"
      ]
     },
     "execution_count": 38,
     "metadata": {},
     "output_type": "execute_result"
    }
   ],
   "source": [
    "\n",
    "all_data.Gender = all_data.Gender.fillna('Missing')\n",
    "\n",
    "all_data.Gender.unique()\n"
   ]
  },
  {
   "cell_type": "markdown",
   "metadata": {},
   "source": [
    "#### Dropping Features and some feature Selection"
   ]
  },
  {
   "cell_type": "code",
   "execution_count": 39,
   "metadata": {},
   "outputs": [],
   "source": [
    "all_data.target = all_data.target.astype(int)"
   ]
  },
  {
   "cell_type": "code",
   "execution_count": 40,
   "metadata": {},
   "outputs": [],
   "source": [
    "y= all_data['target'][:ntrain]\n",
    "all_data.drop(columns=['ID', 'target'],inplace=True)                     "
   ]
  },
  {
   "cell_type": "code",
   "execution_count": 41,
   "metadata": {},
   "outputs": [],
   "source": [
    "categorical_feat = ['Gender', 'Age', 'No_Pol', 'Car_Category', 'Subject_Car_Colour',\n",
    "       'Subject_Car_Make', 'LGA_Name', 'State', 'ProductName', 'Policy Start Date_year', 'Policy End Date_year', 'First Transaction Date_year']"
   ]
  },
  {
   "cell_type": "code",
   "execution_count": 42,
   "metadata": {},
   "outputs": [],
   "source": [
    "from sklearn.preprocessing import LabelEncoder\n",
    "\n",
    "encoder = LabelEncoder()\n",
    "data = all_data.copy()\n",
    "\n",
    "for i in categorical_feat:\n",
    "    try:\n",
    "        all_data[i] = encoder.fit_transform(all_data[i])\n",
    "    except:\n",
    "        print(i)"
   ]
  },
  {
   "cell_type": "code",
   "execution_count": 43,
   "metadata": {},
   "outputs": [
    {
     "data": {
      "text/html": [
       "<div>\n",
       "<style scoped>\n",
       "    .dataframe tbody tr th:only-of-type {\n",
       "        vertical-align: middle;\n",
       "    }\n",
       "\n",
       "    .dataframe tbody tr th {\n",
       "        vertical-align: top;\n",
       "    }\n",
       "\n",
       "    .dataframe thead th {\n",
       "        text-align: right;\n",
       "    }\n",
       "</style>\n",
       "<table border=\"1\" class=\"dataframe\">\n",
       "  <thead>\n",
       "    <tr style=\"text-align: right;\">\n",
       "      <th></th>\n",
       "      <th>Gender</th>\n",
       "      <th>Age</th>\n",
       "      <th>No_Pol</th>\n",
       "      <th>Car_Category</th>\n",
       "      <th>Subject_Car_Colour</th>\n",
       "      <th>Subject_Car_Make</th>\n",
       "      <th>LGA_Name</th>\n",
       "      <th>State</th>\n",
       "      <th>ProductName</th>\n",
       "      <th>Policy_duration</th>\n",
       "      <th>Transaction_from_Policy_Start</th>\n",
       "      <th>Policy Start Date_year</th>\n",
       "      <th>Policy Start Date_day</th>\n",
       "      <th>Policy Start Date_month</th>\n",
       "      <th>Policy Start Date_quarter</th>\n",
       "      <th>Policy End Date_year</th>\n",
       "      <th>Policy End Date_day</th>\n",
       "      <th>Policy End Date_month</th>\n",
       "      <th>Policy End Date_quarter</th>\n",
       "      <th>First Transaction Date_year</th>\n",
       "      <th>First Transaction Date_day</th>\n",
       "      <th>First Transaction Date_month</th>\n",
       "      <th>First Transaction Date_quarter</th>\n",
       "    </tr>\n",
       "  </thead>\n",
       "  <tbody>\n",
       "    <tr>\n",
       "      <th>0</th>\n",
       "      <td>1</td>\n",
       "      <td>39</td>\n",
       "      <td>0</td>\n",
       "      <td>9</td>\n",
       "      <td>4</td>\n",
       "      <td>69</td>\n",
       "      <td>175</td>\n",
       "      <td>75</td>\n",
       "      <td>1</td>\n",
       "      <td>364</td>\n",
       "      <td>364</td>\n",
       "      <td>7</td>\n",
       "      <td>14</td>\n",
       "      <td>5</td>\n",
       "      <td>2</td>\n",
       "      <td>1</td>\n",
       "      <td>13</td>\n",
       "      <td>5</td>\n",
       "      <td>2</td>\n",
       "      <td>7</td>\n",
       "      <td>14</td>\n",
       "      <td>5</td>\n",
       "      <td>2</td>\n",
       "    </tr>\n",
       "    <tr>\n",
       "      <th>1</th>\n",
       "      <td>0</td>\n",
       "      <td>88</td>\n",
       "      <td>0</td>\n",
       "      <td>2</td>\n",
       "      <td>26</td>\n",
       "      <td>69</td>\n",
       "      <td>175</td>\n",
       "      <td>75</td>\n",
       "      <td>1</td>\n",
       "      <td>364</td>\n",
       "      <td>364</td>\n",
       "      <td>7</td>\n",
       "      <td>29</td>\n",
       "      <td>11</td>\n",
       "      <td>4</td>\n",
       "      <td>1</td>\n",
       "      <td>28</td>\n",
       "      <td>11</td>\n",
       "      <td>4</td>\n",
       "      <td>7</td>\n",
       "      <td>29</td>\n",
       "      <td>11</td>\n",
       "      <td>4</td>\n",
       "    </tr>\n",
       "    <tr>\n",
       "      <th>2</th>\n",
       "      <td>1</td>\n",
       "      <td>52</td>\n",
       "      <td>0</td>\n",
       "      <td>9</td>\n",
       "      <td>33</td>\n",
       "      <td>69</td>\n",
       "      <td>175</td>\n",
       "      <td>75</td>\n",
       "      <td>1</td>\n",
       "      <td>364</td>\n",
       "      <td>364</td>\n",
       "      <td>7</td>\n",
       "      <td>21</td>\n",
       "      <td>3</td>\n",
       "      <td>1</td>\n",
       "      <td>1</td>\n",
       "      <td>20</td>\n",
       "      <td>3</td>\n",
       "      <td>1</td>\n",
       "      <td>7</td>\n",
       "      <td>21</td>\n",
       "      <td>3</td>\n",
       "      <td>1</td>\n",
       "    </tr>\n",
       "    <tr>\n",
       "      <th>3</th>\n",
       "      <td>1</td>\n",
       "      <td>11</td>\n",
       "      <td>0</td>\n",
       "      <td>5</td>\n",
       "      <td>30</td>\n",
       "      <td>51</td>\n",
       "      <td>175</td>\n",
       "      <td>75</td>\n",
       "      <td>5</td>\n",
       "      <td>364</td>\n",
       "      <td>364</td>\n",
       "      <td>7</td>\n",
       "      <td>21</td>\n",
       "      <td>8</td>\n",
       "      <td>3</td>\n",
       "      <td>1</td>\n",
       "      <td>20</td>\n",
       "      <td>8</td>\n",
       "      <td>3</td>\n",
       "      <td>7</td>\n",
       "      <td>21</td>\n",
       "      <td>8</td>\n",
       "      <td>3</td>\n",
       "    </tr>\n",
       "    <tr>\n",
       "      <th>4</th>\n",
       "      <td>3</td>\n",
       "      <td>29</td>\n",
       "      <td>2</td>\n",
       "      <td>5</td>\n",
       "      <td>30</td>\n",
       "      <td>51</td>\n",
       "      <td>165</td>\n",
       "      <td>74</td>\n",
       "      <td>8</td>\n",
       "      <td>124</td>\n",
       "      <td>124</td>\n",
       "      <td>7</td>\n",
       "      <td>29</td>\n",
       "      <td>8</td>\n",
       "      <td>3</td>\n",
       "      <td>0</td>\n",
       "      <td>31</td>\n",
       "      <td>12</td>\n",
       "      <td>4</td>\n",
       "      <td>7</td>\n",
       "      <td>29</td>\n",
       "      <td>8</td>\n",
       "      <td>3</td>\n",
       "    </tr>\n",
       "  </tbody>\n",
       "</table>\n",
       "</div>"
      ],
      "text/plain": [
       "   Gender  Age  No_Pol  Car_Category  Subject_Car_Colour  Subject_Car_Make  \\\n",
       "0       1   39       0             9                   4                69   \n",
       "1       0   88       0             2                  26                69   \n",
       "2       1   52       0             9                  33                69   \n",
       "3       1   11       0             5                  30                51   \n",
       "4       3   29       2             5                  30                51   \n",
       "\n",
       "   LGA_Name  State  ProductName  Policy_duration  \\\n",
       "0       175     75            1              364   \n",
       "1       175     75            1              364   \n",
       "2       175     75            1              364   \n",
       "3       175     75            5              364   \n",
       "4       165     74            8              124   \n",
       "\n",
       "   Transaction_from_Policy_Start  Policy Start Date_year  \\\n",
       "0                            364                       7   \n",
       "1                            364                       7   \n",
       "2                            364                       7   \n",
       "3                            364                       7   \n",
       "4                            124                       7   \n",
       "\n",
       "   Policy Start Date_day  Policy Start Date_month  Policy Start Date_quarter  \\\n",
       "0                     14                        5                          2   \n",
       "1                     29                       11                          4   \n",
       "2                     21                        3                          1   \n",
       "3                     21                        8                          3   \n",
       "4                     29                        8                          3   \n",
       "\n",
       "   Policy End Date_year  Policy End Date_day  Policy End Date_month  \\\n",
       "0                     1                   13                      5   \n",
       "1                     1                   28                     11   \n",
       "2                     1                   20                      3   \n",
       "3                     1                   20                      8   \n",
       "4                     0                   31                     12   \n",
       "\n",
       "   Policy End Date_quarter  First Transaction Date_year  \\\n",
       "0                        2                            7   \n",
       "1                        4                            7   \n",
       "2                        1                            7   \n",
       "3                        3                            7   \n",
       "4                        4                            7   \n",
       "\n",
       "   First Transaction Date_day  First Transaction Date_month  \\\n",
       "0                          14                             5   \n",
       "1                          29                            11   \n",
       "2                          21                             3   \n",
       "3                          21                             8   \n",
       "4                          29                             8   \n",
       "\n",
       "   First Transaction Date_quarter  \n",
       "0                               2  \n",
       "1                               4  \n",
       "2                               1  \n",
       "3                               3  \n",
       "4                               3  "
      ]
     },
     "execution_count": 43,
     "metadata": {},
     "output_type": "execute_result"
    }
   ],
   "source": [
    "all_data.head()"
   ]
  },
  {
   "cell_type": "code",
   "execution_count": 44,
   "metadata": {},
   "outputs": [
    {
     "data": {
      "image/png": "[encoded data removed]",
      "text/plain": [
       "<Figure size 720x720 with 1 Axes>"
      ]
     },
     "metadata": {
      "needs_background": "light"
     },
     "output_type": "display_data"
    }
   ],
   "source": [
    "from sklearn.decomposition import PCA\n",
    "\n",
    "pca = PCA()\n",
    "data_pca = pca.fit_transform(all_data)\n",
    "\n",
    "plt.figure(figsize=(10,10))\n",
    "plt.plot(np.cumsum(pca.explained_variance_ratio_), 'ro-')\n",
    "plt.grid()"
   ]
  },
  {
   "cell_type": "code",
   "execution_count": 45,
   "metadata": {},
   "outputs": [],
   "source": [
    "pca_new = PCA(n_components = 17)\n",
    "all_data = pca_new.fit_transform(data_pca)"
   ]
  },
  {
   "cell_type": "code",
   "execution_count": 46,
   "metadata": {},
   "outputs": [],
   "source": [
    "#Get the new dataset\n",
    "train_n = all_data[:ntrain]\n",
    "test_n = all_data[ntrain:]"
   ]
  },
  {
   "cell_type": "code",
   "execution_count": 47,
   "metadata": {},
   "outputs": [],
   "source": [
    "X= train_n"
   ]
  },
  {
   "cell_type": "code",
   "execution_count": 48,
   "metadata": {},
   "outputs": [
    {
     "name": "stdout",
     "output_type": "stream",
     "text": [
      "(12079, 17)\n",
      "(5177, 17)\n"
     ]
    }
   ],
   "source": [
    "print(X.shape)\n",
    "print(test_n.shape)"
   ]
  },
  {
   "cell_type": "markdown",
   "metadata": {},
   "source": [
    "## Model for Submission"
   ]
  },
  {
   "cell_type": "code",
   "execution_count": 49,
   "metadata": {},
   "outputs": [],
   "source": [
    "X_trainval = pd.DataFrame(X)\n",
    "y_train = y\n",
    "X_test = pd.DataFrame(test_n)"
   ]
  },
  {
   "cell_type": "code",
   "execution_count": 50,
   "metadata": {},
   "outputs": [],
   "source": [
    "%%capture\n",
    "\n",
    "from sklearn.model_selection import StratifiedKFold\n",
    "from catboost import CatBoostClassifier\n",
    "from sklearn.metrics import f1_score\n",
    "\n",
    "\n",
    "\n",
    "\n",
    "kf = StratifiedKFold(n_splits = 10, shuffle = True, random_state = 287)\n",
    "prediction = []\n",
    "valid = []\n",
    "\n",
    "contribcat = np.zeros(len(X_test))\n",
    "\n",
    "i = 1\n",
    "\n",
    "for train_index, test_index in kf.split(X_trainval, y_train):\n",
    "    train, val = X_trainval.iloc[train_index], X_trainval.iloc[test_index]\n",
    "    label, y_val = y_train.iloc[train_index], y_train.iloc[test_index]\n",
    "    \n",
    "    # Trainin models\n",
    "    clf = CatBoostClassifier(random_state = 42,n_estimators=2000,depth = 8, learning_rate = 0.05, l2_leaf_reg = 50)\n",
    "    clf.fit(train, label, verbose = 100)\n",
    "    val_pred = clf.predict(val)\n",
    "    print('Score for test ', i, end = ': ')\n",
    "    \n",
    "    score = f1_score(y_val, val_pred)\n",
    "    valid.append(score)\n",
    "\n",
    "    pred = clf.predict(X_test)\n",
    "    prediction.append(pred)\n",
    "    \n",
    "    contribcat += pred/kf.n_splits\n",
    "    \n",
    "    \n",
    "    i+=1\n",
    "    \n",
    "\n"
   ]
  },
  {
   "cell_type": "code",
   "execution_count": 51,
   "metadata": {},
   "outputs": [
    {
     "name": "stdout",
     "output_type": "stream",
     "text": [
      "\n",
      "Validation scores for CatBoostClassifier:  [0.22040816326530613, 0.1883408071748879, 0.19444444444444445, 0.20192307692307693, 0.20853080568720378, 0.1388888888888889, 0.17511520737327188, 0.14678899082568808, 0.11059907834101382, 0.22707423580786024] \n",
      "Average score of: \t 0.1812113698731642\n"
     ]
    }
   ],
   "source": [
    "print('\\nValidation scores for CatBoostClassifier: ', valid, '\\nAverage score of: \\t', np.mean(valid))"
   ]
  },
  {
   "cell_type": "markdown",
   "metadata": {},
   "source": [
    "# Creating submission file"
   ]
  },
  {
   "cell_type": "code",
   "execution_count": 802,
   "metadata": {},
   "outputs": [
    {
     "data": {
      "text/html": [
       "<div>\n",
       "<style scoped>\n",
       "    .dataframe tbody tr th:only-of-type {\n",
       "        vertical-align: middle;\n",
       "    }\n",
       "\n",
       "    .dataframe tbody tr th {\n",
       "        vertical-align: top;\n",
       "    }\n",
       "\n",
       "    .dataframe thead th {\n",
       "        text-align: right;\n",
       "    }\n",
       "</style>\n",
       "<table border=\"1\" class=\"dataframe\">\n",
       "  <thead>\n",
       "    <tr style=\"text-align: right;\">\n",
       "      <th></th>\n",
       "      <th>ID</th>\n",
       "      <th>target</th>\n",
       "    </tr>\n",
       "  </thead>\n",
       "  <tbody>\n",
       "    <tr>\n",
       "      <th>0</th>\n",
       "      <td>009D84L</td>\n",
       "      <td>0</td>\n",
       "    </tr>\n",
       "    <tr>\n",
       "      <th>1</th>\n",
       "      <td>01DO2EQ</td>\n",
       "      <td>0</td>\n",
       "    </tr>\n",
       "    <tr>\n",
       "      <th>2</th>\n",
       "      <td>01QM0NU</td>\n",
       "      <td>0</td>\n",
       "    </tr>\n",
       "    <tr>\n",
       "      <th>3</th>\n",
       "      <td>024NJLZ</td>\n",
       "      <td>0</td>\n",
       "    </tr>\n",
       "    <tr>\n",
       "      <th>4</th>\n",
       "      <td>02BYET3</td>\n",
       "      <td>0</td>\n",
       "    </tr>\n",
       "  </tbody>\n",
       "</table>\n",
       "</div>"
      ],
      "text/plain": [
       "        ID  target\n",
       "0  009D84L       0\n",
       "1  01DO2EQ       0\n",
       "2  01QM0NU       0\n",
       "3  024NJLZ       0\n",
       "4  02BYET3       0"
      ]
     },
     "execution_count": 802,
     "metadata": {},
     "output_type": "execute_result"
    }
   ],
   "source": [
    "ss.head()"
   ]
  },
  {
   "cell_type": "code",
   "execution_count": 87,
   "metadata": {},
   "outputs": [],
   "source": [
    "sub_file = ss.copy()"
   ]
  },
  {
   "cell_type": "code",
   "execution_count": 64,
   "metadata": {},
   "outputs": [
    {
     "data": {
      "text/plain": [
       "Counter({1.0: 371, 0.0: 4806})"
      ]
     },
     "execution_count": 64,
     "metadata": {},
     "output_type": "execute_result"
    }
   ],
   "source": [
    "from collections import Counter\n",
    "Counter(contribcat.round())"
   ]
  },
  {
   "cell_type": "code",
   "execution_count": 98,
   "metadata": {},
   "outputs": [
    {
     "data": {
      "text/plain": [
       "array([0.9, 0.9, 0. , ..., 0. , 0. , 0. ])"
      ]
     },
     "execution_count": 98,
     "metadata": {},
     "output_type": "execute_result"
    }
   ],
   "source": [
    "\n",
    "sub_file.target = contribcat.round()\n",
    "sub_file.to_csv('umoja_sub.csv',index=False)\n",
    "contribcat"
   ]
  }
 ],
 "metadata": {
  "kernelspec": {
   "display_name": "Python 3",
   "language": "python",
   "name": "python3"
  },
  "language_info": {
   "codemirror_mode": {
    "name": "ipython",
    "version": 3
   },
   "file_extension": ".py",
   "mimetype": "text/x-python",
   "name": "python",
   "nbconvert_exporter": "python",
   "pygments_lexer": "ipython3",
   "version": "3.8.5"
  }
 },
 "nbformat": 4,
 "nbformat_minor": 4
}
